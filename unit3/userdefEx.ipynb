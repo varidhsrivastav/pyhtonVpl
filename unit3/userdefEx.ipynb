{
 "cells": [
  {
   "cell_type": "code",
   "execution_count": null,
   "metadata": {},
   "outputs": [],
   "source": []
  },
  {
   "cell_type": "markdown",
   "metadata": {},
   "source": [
    "# Custom exception"
   ]
  },
  {
   "cell_type": "markdown",
   "metadata": {},
   "source": [
    "without any attribute"
   ]
  },
  {
   "cell_type": "code",
   "execution_count": 2,
   "metadata": {},
   "outputs": [
    {
     "name": "stdout",
     "output_type": "stream",
     "text": [
      "Expected value\n"
     ]
    }
   ],
   "source": [
    "class InvalidNumberException(Exception):\n",
    "    #raise when the input values is lesser than the actual value\n",
    "    pass\n",
    "value=100\n",
    "try:\n",
    "    n=int(input(\"Enter the number\"))\n",
    "    if n<value:\n",
    "        raise InvalidNumberException\n",
    "        \n",
    "    else:\n",
    "        print(\"Expected value\")\n",
    "except InvalidNumberException as e:\n",
    "    print(f\"Errot : {e}\")"
   ]
  },
  {
   "cell_type": "code",
   "execution_count": 5,
   "metadata": {},
   "outputs": [
    {
     "ename": "SalaryNotRange",
     "evalue": "Salary should beyweenn 20000 and 40000",
     "output_type": "error",
     "traceback": [
      "\u001b[1;31m---------------------------------------------------------------------------\u001b[0m",
      "\u001b[1;31mSalaryNotRange\u001b[0m                            Traceback (most recent call last)",
      "Cell \u001b[1;32mIn[5], line 11\u001b[0m\n\u001b[0;32m      9\u001b[0m salary\u001b[38;5;241m=\u001b[39m\u001b[38;5;28mint\u001b[39m(\u001b[38;5;28minput\u001b[39m(\u001b[38;5;124m\"\u001b[39m\u001b[38;5;124mEnter the saary \u001b[39m\u001b[38;5;124m\"\u001b[39m))\n\u001b[0;32m     10\u001b[0m \u001b[38;5;28;01mif\u001b[39;00m \u001b[38;5;129;01mnot\u001b[39;00m \u001b[38;5;241m20000\u001b[39m\u001b[38;5;241m<\u001b[39msalary\u001b[38;5;241m<\u001b[39m\u001b[38;5;241m40000\u001b[39m:\n\u001b[1;32m---> 11\u001b[0m     \u001b[38;5;28;01mraise\u001b[39;00m SalaryNotRange(salary)\n",
      "\u001b[1;31mSalaryNotRange\u001b[0m: Salary should beyweenn 20000 and 40000"
     ]
    }
   ],
   "source": [
    "class SalaryNotRange(Exception):\n",
    "    #RAISED WHEN  salary is not between 20000 and 40000\n",
    "    # attribute -- inout for raising the exception \n",
    "    #message - explanation\n",
    "    def __init__(self,salary, message=\"Salary should beyweenn 20000 and 40000\"):\n",
    "        self.salary=salary\n",
    "        self.message=message\n",
    "        super().__init__(self.message)\n",
    "\n",
    "salary=int(input(\"Enter the saary \"))\n",
    "if not 20000<salary<40000:\n",
    "    raise SalaryNotRange(salary)"
   ]
  },
  {
   "cell_type": "code",
   "execution_count": 9,
   "metadata": {},
   "outputs": [
    {
     "ename": "ValueError",
     "evalue": "too many values to unpack (expected 2)",
     "output_type": "error",
     "traceback": [
      "\u001b[1;31m---------------------------------------------------------------------------\u001b[0m",
      "\u001b[1;31mValueError\u001b[0m                                Traceback (most recent call last)",
      "Cell \u001b[1;32mIn[9], line 8\u001b[0m\n\u001b[0;32m      6\u001b[0m salary1\u001b[38;5;241m=\u001b[39m\u001b[38;5;241m50\u001b[39m\n\u001b[0;32m      7\u001b[0m \u001b[38;5;28;01mif\u001b[39;00m \u001b[38;5;129;01mnot\u001b[39;00m \u001b[38;5;241m20\u001b[39m\u001b[38;5;241m<\u001b[39msalary1\u001b[38;5;241m<\u001b[39m\u001b[38;5;241m50\u001b[39m:\n\u001b[1;32m----> 8\u001b[0m     \u001b[38;5;28;01mraise\u001b[39;00m \u001b[43mSlaryNotInRange\u001b[49m\u001b[43m(\u001b[49m\u001b[43msalary1\u001b[49m\u001b[43m)\u001b[49m\n",
      "Cell \u001b[1;32mIn[9], line 4\u001b[0m, in \u001b[0;36mSlaryNotInRange.__init__\u001b[1;34m(self, salary, message)\u001b[0m\n\u001b[0;32m      2\u001b[0m \u001b[38;5;28;01mdef\u001b[39;00m \u001b[38;5;21m__init__\u001b[39m(\u001b[38;5;28mself\u001b[39m,salary,message\u001b[38;5;241m=\u001b[39m\u001b[38;5;124m\"\u001b[39m\u001b[38;5;124msalary should between 20 and 40\u001b[39m\u001b[38;5;124m\"\u001b[39m):\n\u001b[0;32m      3\u001b[0m     \u001b[38;5;28mself\u001b[39m\u001b[38;5;241m.\u001b[39msalary\u001b[38;5;241m=\u001b[39msalary\n\u001b[1;32m----> 4\u001b[0m     \u001b[38;5;28mself\u001b[39m,message\u001b[38;5;241m=\u001b[39mmessage\n",
      "\u001b[1;31mValueError\u001b[0m: too many values to unpack (expected 2)"
     ]
    }
   ],
   "source": [
    "class SlaryNotInRange(Exception):\n",
    "    def __init__(self,salary,message=\"salary should between 20 and 40\"):\n",
    "        self.salary=salary\n",
    "        self,message=message\n",
    "        # super().__init__(self.message)\n",
    "salary1=50\n",
    "if not 20<salary1<50:\n",
    "    raise SlaryNotInRange(salary1)"
   ]
  },
  {
   "cell_type": "code",
   "execution_count": 10,
   "metadata": {},
   "outputs": [
    {
     "name": "stdout",
     "output_type": "stream",
     "text": [
      "Exception is salary not in eane : Salary should beyweenn 20000 and 40000\n"
     ]
    }
   ],
   "source": [
    "class SalaryNotRange(Exception):\n",
    "    #RAISED WHEN  salary is not between 20000 and 40000\n",
    "    # attribute -- inout for raising the exception \n",
    "    #message - explanation\n",
    "    def __init__(self,salary, message=\"Salary should beyweenn 20000 and 40000\"):\n",
    "        self.salary=salary\n",
    "        self.message=message\n",
    "        super().__init__(self.message)\n",
    "try:\n",
    "    salary=int(input(\"Enter the saary \"))\n",
    "    if not 20000<salary<40000:\n",
    "        raise SalaryNotRange(salary)\n",
    "    else:\n",
    "        print(f\"salary is {salary}\")\n",
    "except SalaryNotRange as e:\n",
    "    print(f\"Exception is salary not in eane : {e}\")"
   ]
  },
  {
   "cell_type": "markdown",
   "metadata": {},
   "source": [
    "raise built in exception"
   ]
  },
  {
   "cell_type": "code",
   "execution_count": 11,
   "metadata": {},
   "outputs": [
    {
     "ename": "ValueError",
     "evalue": "invalid literal for int() with base 10: '100,12'",
     "output_type": "error",
     "traceback": [
      "\u001b[1;31m---------------------------------------------------------------------------\u001b[0m",
      "\u001b[1;31mValueError\u001b[0m                                Traceback (most recent call last)",
      "Cell \u001b[1;32mIn[11], line 1\u001b[0m\n\u001b[1;32m----> 1\u001b[0m x\u001b[38;5;241m=\u001b[39m\u001b[38;5;28;43mint\u001b[39;49m\u001b[43m(\u001b[49m\u001b[38;5;28;43minput\u001b[39;49m\u001b[43m(\u001b[49m\u001b[38;5;124;43m\"\u001b[39;49m\u001b[38;5;124;43mEnter the first number \u001b[39;49m\u001b[38;5;124;43m\"\u001b[39;49m\u001b[43m)\u001b[49m\u001b[43m)\u001b[49m\n\u001b[0;32m      2\u001b[0m y\u001b[38;5;241m=\u001b[39m\u001b[38;5;28mint\u001b[39m(\u001b[38;5;28minput\u001b[39m(\u001b[38;5;124m\"\u001b[39m\u001b[38;5;124mEnter the second number \u001b[39m\u001b[38;5;124m\"\u001b[39m))\n\u001b[0;32m      3\u001b[0m \u001b[38;5;28;01mtry\u001b[39;00m:\n",
      "\u001b[1;31mValueError\u001b[0m: invalid literal for int() with base 10: '100,12'"
     ]
    }
   ],
   "source": [
    "x=int(input(\"Enter the first number \"))\n",
    "y=int(input(\"Enter the second number \"))\n",
    "try:\n",
    "    z=x/y\n",
    "    if z>10:\n",
    "        raise ValueError(z)\n",
    "except ValueError as e:\n",
    "    print(f\"{z} is out of range\")\n",
    "except ZeroDivisionError as e:\n",
    "    print(f\"{z} is out of range\")\n",
    "else:\n",
    "    print(f'{z}, is well wihthin the eange')"
   ]
  },
  {
   "cell_type": "code",
   "execution_count": 14,
   "metadata": {},
   "outputs": [
    {
     "name": "stdout",
     "output_type": "stream",
     "text": [
      "errro :name 'a' is not defined\n"
     ]
    }
   ],
   "source": [
    "def divide(a,b):\n",
    "    if b==0:\n",
    "        raise Exception(\"Cannot be divided bt zeo\");\n",
    "    return a/b\n",
    "x=int(input(\"Enter the first number \"))\n",
    "y=int(input(\"Enter the second number \"))\n",
    "try:\n",
    "    r=divide(a,b)\n",
    "except Exception as e:\n",
    "    print(f'errro :{e}')\n",
    "else:\n",
    "    print(f'Result is {r}')\n"
   ]
  },
  {
   "cell_type": "code",
   "execution_count": 15,
   "metadata": {},
   "outputs": [
    {
     "ename": "SyntaxError",
     "evalue": "invalid syntax (2143743046.py, line 3)",
     "output_type": "error",
     "traceback": [
      "\u001b[1;36m  Cell \u001b[1;32mIn[15], line 3\u001b[1;36m\u001b[0m\n\u001b[1;33m    if gender not \"Male\" or \"  Female\":\u001b[0m\n\u001b[1;37m                  ^\u001b[0m\n\u001b[1;31mSyntaxError\u001b[0m\u001b[1;31m:\u001b[0m invalid syntax\n"
     ]
    }
   ],
   "source": [
    "class RaiseErrorForGender:\n",
    "      gender=input(\"Enter the gender\")\n",
    "      if not gender==\"Male\" or gender==\"female\":\n",
    "        raise RaiseErrorForGender\n",
    "except RaiseErrorForGender as e:\n",
    "        print(\"the error is in gender \")"
   ]
  },
  {
   "cell_type": "code",
   "execution_count": 3,
   "metadata": {},
   "outputs": [
    {
     "ename": "ValueError",
     "evalue": "enter the number in range of 30 t0 50",
     "output_type": "error",
     "traceback": [
      "\u001b[1;31m---------------------------------------------------------------------------\u001b[0m",
      "\u001b[1;31mValueError\u001b[0m                                Traceback (most recent call last)",
      "Cell \u001b[1;32mIn[3], line 3\u001b[0m\n\u001b[0;32m      1\u001b[0m number\u001b[38;5;241m=\u001b[39m\u001b[38;5;241m51\u001b[39m\n\u001b[0;32m      2\u001b[0m \u001b[38;5;28;01mif\u001b[39;00m(number\u001b[38;5;241m>\u001b[39m\u001b[38;5;241m50\u001b[39m \u001b[38;5;129;01mor\u001b[39;00m number\u001b[38;5;241m<\u001b[39m\u001b[38;5;241m20\u001b[39m ):\n\u001b[1;32m----> 3\u001b[0m     \u001b[38;5;28;01mraise\u001b[39;00m \u001b[38;5;167;01mValueError\u001b[39;00m(\u001b[38;5;124m\"\u001b[39m\u001b[38;5;124menter the number in range of 30 t0 50\u001b[39m\u001b[38;5;124m\"\u001b[39m)\n",
      "\u001b[1;31mValueError\u001b[0m: enter the number in range of 30 t0 50"
     ]
    }
   ],
   "source": [
    "number=51\n",
    "if(number>50 or number<20 ):\n",
    "    raise ValueError(\"enter the number in range of 30 t0 50\")"
   ]
  },
  {
   "cell_type": "code",
   "execution_count": 4,
   "metadata": {},
   "outputs": [
    {
     "name": "stdout",
     "output_type": "stream",
     "text": [
      "person is not eligible to vote\n"
     ]
    }
   ],
   "source": [
    "class CustomErorrs(Exception):\n",
    "    \"Raised when the age is less than 18\"\n",
    "    pass\n",
    "try:\n",
    "    age=15\n",
    "    if(age<18):\n",
    "        raise CustomErorrs\n",
    "except CustomErorrs:\n",
    "    print(\"person is not eligible to vote\")\n",
    "else:\n",
    "    print(\"able to vote\")"
   ]
  },
  {
   "cell_type": "code",
   "execution_count": 6,
   "metadata": {},
   "outputs": [
    {
     "ename": "NegativeNumber",
     "evalue": "The number should be negative",
     "output_type": "error",
     "traceback": [
      "\u001b[1;31m---------------------------------------------------------------------------\u001b[0m",
      "\u001b[1;31mNegativeNumber\u001b[0m                            Traceback (most recent call last)",
      "Cell \u001b[1;32mIn[6], line 17\u001b[0m\n\u001b[0;32m     14\u001b[0m     \u001b[38;5;28;01mexcept\u001b[39;00m \u001b[38;5;167;01mOverflowError\u001b[39;00m \u001b[38;5;28;01mas\u001b[39;00m e:\n\u001b[0;32m     15\u001b[0m         \u001b[38;5;28mprint\u001b[39m(\u001b[38;5;124mf\u001b[39m\u001b[38;5;124m\"\u001b[39m\u001b[38;5;124mthe erro is: \u001b[39m\u001b[38;5;132;01m{\u001b[39;00me\u001b[38;5;132;01m}\u001b[39;00m\u001b[38;5;124m\"\u001b[39m)\n\u001b[1;32m---> 17\u001b[0m \u001b[43mfact\u001b[49m\u001b[43m(\u001b[49m\u001b[38;5;241;43m-\u001b[39;49m\u001b[38;5;241;43m1\u001b[39;49m\u001b[43m)\u001b[49m\n",
      "Cell \u001b[1;32mIn[6], line 8\u001b[0m, in \u001b[0;36mfact\u001b[1;34m(n)\u001b[0m\n\u001b[0;32m      6\u001b[0m \u001b[38;5;28;01mtry\u001b[39;00m:\n\u001b[0;32m      7\u001b[0m     \u001b[38;5;28;01mif\u001b[39;00m(n\u001b[38;5;241m<\u001b[39m\u001b[38;5;241m0\u001b[39m):\n\u001b[1;32m----> 8\u001b[0m         \u001b[38;5;28;01mraise\u001b[39;00m NegativeNumber(\u001b[38;5;124m\"\u001b[39m\u001b[38;5;124mThe number should be negative\u001b[39m\u001b[38;5;124m\"\u001b[39m)\n\u001b[0;32m      9\u001b[0m     \u001b[38;5;28;01melse\u001b[39;00m:\n\u001b[0;32m     10\u001b[0m         \u001b[38;5;28;01mif\u001b[39;00m n \u001b[38;5;241m==\u001b[39m \u001b[38;5;241m1\u001b[39m:\n",
      "\u001b[1;31mNegativeNumber\u001b[0m: The number should be negative"
     ]
    }
   ],
   "source": [
    "class NegativeNumber(Exception):\n",
    "    def __init__(self,message=\"You cannot use negative number\"):\n",
    "        self.message=message\n",
    "\n",
    "def fact(n):\n",
    "    try:\n",
    "        if(n<0):\n",
    "            raise NegativeNumber(\"The number should be negative\")\n",
    "        else:\n",
    "            if n == 1:\n",
    "                return n\n",
    "            else:\n",
    "                return n * fact(n - 1)\n",
    "    except OverflowError as e:\n",
    "        print(f\"the erro is: {e}\")\n",
    "\n",
    "fact(-1)\n",
    "        \n",
    "        "
   ]
  },
  {
   "cell_type": "code",
   "execution_count": null,
   "metadata": {},
   "outputs": [],
   "source": [
    "# taking input from the user\n",
    "number = int(input(\"User Input : \"))\n",
    "\n",
    "# If the user input negative integer\n",
    "if number < 0:\n",
    "  print(\"Bad Input\")\n",
    "\n",
    "# If the user inputs 0\n",
    "elif number == 0:\n",
    "  print(\"The factorial of 0 is 1\")\n",
    "\n",
    "# If the user inputs a positive integer\n",
    "else:\n",
    "  print(\"The factorial of\", number, \"is\", recursive_factorial(number))"
   ]
  },
  {
   "cell_type": "code",
   "execution_count": null,
   "metadata": {},
   "outputs": [],
   "source": [
    "# Factorial of a number using recursion\n",
    "def recur_factorial(n):\n",
    "    if n == 1:\n",
    "        return n\n",
    "    else:\n",
    "        return n * recur_factorial(n - 1)\n",
    "\n",
    "num = 7  # You can change this value to compute the factorial of a different number\n",
    "\n",
    "# Check if the number is negative\n",
    "if num < 0:\n",
    "    print(\"Sorry, factorial does not exist for negative numbers\")\n",
    "elif num == 0:\n",
    "    print(\"The factorial of 0 is 1\")\n",
    "else:\n",
    "    print(\"The factorial of\", num, \"is\", recur_factorial(num))\n"
   ]
  },
  {
   "cell_type": "code",
   "execution_count": null,
   "metadata": {},
   "outputs": [],
   "source": [
    "x=int(input(\"Enter the first number \"))\n",
    "y=int(input(\"Enter the second number \"))\n",
    "try:\n",
    "    z=x/y\n",
    "    if z>10:\n",
    "        raise ValueError(z)\n",
    "except ValueError as e:\n",
    "    print(f\"{z} is out of range\")\n",
    "except ZeroDivisionError as e:\n",
    "    print(f\"{z} is out of range\")\n",
    "else:\n",
    "    print(f'{z}, is well wihthin the eange')"
   ]
  },
  {
   "cell_type": "code",
   "execution_count": null,
   "metadata": {},
   "outputs": [],
   "source": [
    "# Python program to display the Fibonacci sequence using recursion\n",
    "def recur_fibo(n):\n",
    "    if n <= 1:\n",
    "        return n\n",
    "    else:\n",
    "        return recur_fibo(n - 1) + recur_fibo(n - 2)\n",
    "\n",
    "nterms = 10  # Change this value to compute more or fewer terms\n",
    "\n",
    "if nterms <= 0:\n",
    "    print(\"Please enter a positive integer\")\n",
    "else:\n",
    "    print(\"Fibonacci sequence:\")\n",
    "    for i in range(nterms):\n",
    "        print(recur_fibo(i))\n"
   ]
  },
  {
   "cell_type": "code",
   "execution_count": 22,
   "metadata": {},
   "outputs": [
    {
     "name": "stdout",
     "output_type": "stream",
     "text": [
      "you have entered hello it is wrong input\n"
     ]
    }
   ],
   "source": [
    "def fibonachi(n):\n",
    "    try:\n",
    "        if not type(n)==int:\n",
    "            raise TypeError(n)\n",
    "        elif n<0:\n",
    "            raise ValueError(n)\n",
    "        elif n>50:\n",
    "            raise OverflowError(n)\n",
    "        if n <= 1:\n",
    "            return n\n",
    "        else:\n",
    "            return fibonachi(n - 1) + fibonachi(n - 2)\n",
    "    except TypeError as e:\n",
    "        print(f\"you have entered {e} it is wrong input\")\n",
    "    except ValueError as e:\n",
    "        print(f\"The value is {e} and it connot be negative\")\n",
    "    except OverflowError as e:\n",
    "        print(f\"you have entered {e} amd it is large input\")\n",
    "fibonachi(\"hello\")\n"
   ]
  },
  {
   "cell_type": "code",
   "execution_count": 25,
   "metadata": {},
   "outputs": [
    {
     "name": "stdout",
     "output_type": "stream",
     "text": [
      "True\n"
     ]
    }
   ],
   "source": [
    "n=20.0\n",
    "type(n)\n",
    "if not type(n)==int:\n",
    "    print(\"True\")"
   ]
  },
  {
   "cell_type": "code",
   "execution_count": 18,
   "metadata": {},
   "outputs": [
    {
     "name": "stdout",
     "output_type": "stream",
     "text": [
      "the erro is: 50\n"
     ]
    }
   ],
   "source": [
    "class NegativeNumber(Exception):\n",
    "    \"raised when number less than 0\"\n",
    "    pass\n",
    "\n",
    "def fact(n):\n",
    "    try:\n",
    "        if(n<0):\n",
    "            raise NegativeNumber(\"The number should be negative\")\n",
    "        elif n>40:\n",
    "            raise OverflowError(n)\n",
    "        else:\n",
    "            if n == 1:\n",
    "                return n\n",
    "            else:\n",
    "                return n * fact(n - 1)\n",
    "    except OverflowError as e:\n",
    "        print(f\"the erro is: {e}\")\n",
    "\n",
    "fact(50)"
   ]
  },
  {
   "cell_type": "code",
   "execution_count": null,
   "metadata": {},
   "outputs": [],
   "source": [
    "# method resolution operator or mro\n",
    "import math\n",
    "# base class 1\n",
    "class shape:\n",
    "    def __init__(self, sides):\n",
    "        self.sides=sides\n",
    "    def __str__(self):\n",
    "        return f\"shapes with {self.sides} sides\"\n",
    "# base class 2 child class1\n",
    "class Polygon(shape):\n",
    "    pass\n",
    "    # def area(self):\n",
    "    #     print(\"Area not clculates for generic Polygno\")\n",
    "# childclass 2\n",
    "class Triangle(Polygon):\n",
    "    def __init__(self,sides, s_lenght):\n",
    "        super().__init__(sides)\n",
    "        self.s_lenght=s_lenght\n",
    "    def area(self):\n",
    "        return (self.s_lenght**2*math.sqrt(3))/4\n",
    "# child class 2b\n",
    "class square(Polygon):\n",
    "    def __init__(self, sides, s_lenght):\n",
    "        super().__init__(sides)\n",
    "        self.s_lenght= s_lenght\n",
    "    def area(self):\n",
    "        return self.s_lenght**2\n",
    "tri=Triangle(3,5)\n",
    "tri.area()\n",
    "sqa=square(4,4)\n",
    "Triangle.mro()\n",
    "square.mro()\n",
    "sqa.area()"
   ]
  },
  {
   "cell_type": "code",
   "execution_count": null,
   "metadata": {},
   "outputs": [],
   "source": [
    "# Imagine a 2D Graphics application with various shapes such as circle, square, rhombus, rectangle, paralelogram.Calculate the area for each shape depending on the number of sides and measurement of each side taken from the user. The programs should be a menu driven program that decides which shape is being calculated depending on the number of sides and measurements of each side. The program is Object Oriented based.\n",
    "# ValueError: This could occur if the user enters non-numeric data for side measurements or an invalid number of sides for a shape.\n",
    "# ZeroDivisionError: This might happen if you try to calculate the area of a shape with a zero-valued side, leading to division by zero. Implement checks to handle zero values gracefully.\n",
    "# NotImplementedError: Some shapes like rhombus and parallelogram might require additional information like diagonals or angles. If your application doesn't handle these yet, raise a NotImplementedError to indicate unimplemented functionality.\n",
    "# # AttributeError: Ensure that any calculation methods or attributes required for a specific shape are present in the corresponding class. Handle missing attributes with AttributeError.\n",
    "import math\n",
    "class NotImplementedError:\n",
    "    \"nOT IMPLEMENTED ERROR\"\n",
    "    pass\n",
    "class shape:\n",
    "    def __init__(self, sides):\n",
    "        self.sides=sides\n",
    "    def __str__(self):\n",
    "        return f\"shapes with {self.sides} sides\"\n",
    "class Circle(shape):\n",
    "     def __init__(self, sides):\n",
    "        self.sides=sides\n",
    "        super().__init__(sides)\n",
    "\n",
    "\n",
    "try:\n",
    "    choice = int(input(\". Enter the Number of sides\"))\n",
    "    if not type(choice)==int:\n",
    "        raise ValueError(choice)\n",
    "    \n",
    "if  choice == 3 :\n",
    "    side1=float(input(\"Enter the measuenment of side 1: \"))\n",
    "    side1=float(input(\"Enter the side measuenment of side 2\"))\n",
    "    side1=float(input(\"Enter the side measuenment of side 3: \"))\n",
    "elif  choice == 2 :\n",
    "    side1=float(input(\"Enter the measuenment of side 1: \"))\n",
    "    side1=float(input(\"Enter the side measuenment of side 2\"))\n",
    "elif choice ==1:\n",
    "    side1=float(input(\"Enter the measuenment of side 1: \"))\n",
    "\n",
    "choice = int(input(\". Enter the Number of sides\"))\n",
    "if  choice == 3 :\n",
    "    side1=float(input(\"Enter the measuenment of side 1: \"))\n",
    "    side1=float(input(\"Enter the side measuenment of side 2\"))\n",
    "    side1=float(input(\"Enter the side measuenment of side 3: \"))\n",
    "elif  choice == 2 :\n",
    "    side1=float(input(\"Enter the measuenment of side 1: \"))\n",
    "    side1=float(input(\"Enter the side measuenment of side 2\"))\n",
    "elif choice ==1:\n",
    "    side1=float(input(\"Enter the measuenment of side 1: \"))\n",
    "else:\n",
    "    \n",
    "    # if choice == 4:\n",
    "    #     print(Square(float(input(\"Enter the side: \"))).calculate_area())\n",
    "    #     print(Rectangle(float(input(\"Enter the length: \")), float(input(\"Enter the width: \"))).calculate_area())\n",
    "    #     print(Parallelogram(float(input(\"Enter the base: \")), float(input(\"Enter the height: \"))).calculate_area())\n",
    "    #     print( Rhombus(float(input(\"Enter the side: \"))).calculate_area())\n",
    "    # elif choice == 0:\n",
    "    #     print(Circle(float(input(\"Enter the radius: \"))).calculate_area())\n",
    "    # else:\n",
    "    #     print(\"Invalid choice. Please enter a valid choice.\")\n",
    "    #     return\n"
   ]
  },
  {
   "cell_type": "code",
   "execution_count": 28,
   "metadata": {},
   "outputs": [
    {
     "name": "stdout",
     "output_type": "stream",
     "text": [
      "153 is not an Armstrong number\n",
      "153 is not an Armstrong number\n",
      "153 is an Armstrong number\n"
     ]
    }
   ],
   "source": [
    "num=153\n",
    "sum = 0 \n",
    "temp = num \n",
    "while temp > 0:\n",
    "    digit = temp % 10 \n",
    "    sum += digit ** 3 \n",
    "    temp //= 10 \n",
    "    if num == sum:\n",
    "        print(num,\"is an Armstrong number\")\n",
    "    else:\n",
    "        print(num,\"is not an Armstrong number\")"
   ]
  },
  {
   "cell_type": "code",
   "execution_count": 29,
   "metadata": {},
   "outputs": [
    {
     "name": "stdout",
     "output_type": "stream",
     "text": [
      "153\n",
      "370\n",
      "371\n",
      "407\n",
      "1634\n"
     ]
    }
   ],
   "source": [
    "def is_armstrong(num, order):\n",
    "    sum = 0 \n",
    "    temp = num\n",
    "    while temp > 0:\n",
    "        dig = temp%10\n",
    "        sum += dig**order\n",
    "        temp //=10\n",
    "    if num == sum:\n",
    "        return True\n",
    "    else:\n",
    "        return False\n",
    "\n",
    "def generate_armstrong(lower, upper):\n",
    "    for num in range(lower, upper + 1):\n",
    "        order = len(str(num))\n",
    "        if is_armstrong(num, order):\n",
    "            print(num)\n",
    "\n",
    "generate_armstrong(100, 5000)"
   ]
  },
  {
   "cell_type": "code",
   "execution_count": null,
   "metadata": {},
   "outputs": [],
   "source": []
  }
 ],
 "metadata": {
  "kernelspec": {
   "display_name": "Python 3",
   "language": "python",
   "name": "python3"
  },
  "language_info": {
   "codemirror_mode": {
    "name": "ipython",
    "version": 3
   },
   "file_extension": ".py",
   "mimetype": "text/x-python",
   "name": "python",
   "nbconvert_exporter": "python",
   "pygments_lexer": "ipython3",
   "version": "3.12.0"
  }
 },
 "nbformat": 4,
 "nbformat_minor": 2
}
