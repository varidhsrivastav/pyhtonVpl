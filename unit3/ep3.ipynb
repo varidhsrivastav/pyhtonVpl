{
 "cells": [
  {
   "cell_type": "code",
   "execution_count": 1,
   "metadata": {},
   "outputs": [
    {
     "name": "stdout",
     "output_type": "stream",
     "text": [
      "153\n",
      "370\n",
      "371\n",
      "407\n",
      "1634\n"
     ]
    }
   ],
   "source": [
    "def is_armstrong(num, order):\n",
    "    sum = 0 \n",
    "    temp = num\n",
    "    while temp > 0:\n",
    "        dig = temp%10\n",
    "        sum += dig**order\n",
    "        temp //=10\n",
    "    if num == sum:\n",
    "        return True\n",
    "    else:\n",
    "        return False\n",
    "\n",
    "def generate_armstrong(lower, upper):\n",
    "    try:\n",
    "        if not type(lower) or type(upper) == int:\n",
    "            raise TypeError(\"Invalid type \")\n",
    "        elif lower<0 or upper<0:\n",
    "            raise ValueError(\"Invalid value\")\n",
    "        elif upper >500:\n",
    "            raise OverflowError(upper)\n",
    "        else:\n",
    "            for num in range(lower, upper + 1):\n",
    "                order = len(str(num))\n",
    "                if is_armstrong(num, order):\n",
    "                    print(num)\n",
    "    except TypeError as e:\n",
    "        print(f\"you have entered {e} it is wrong input\")\n",
    "    except ValueError as e:\n",
    "        print(f\"The value is {e} and it connot be negative\")\n",
    "    except OverflowError as e:\n",
    "        print(f\"you have entered {e} amd it is large input\")\n",
    "    \n",
    "\n",
    "generate_armstrong(100, 5000)"
   ]
  },
  {
   "cell_type": "code",
   "execution_count": null,
   "metadata": {},
   "outputs": [],
   "source": []
  }
 ],
 "metadata": {
  "kernelspec": {
   "display_name": "Python 3",
   "language": "python",
   "name": "python3"
  },
  "language_info": {
   "codemirror_mode": {
    "name": "ipython",
    "version": 3
   },
   "file_extension": ".py",
   "mimetype": "text/x-python",
   "name": "python",
   "nbconvert_exporter": "python",
   "pygments_lexer": "ipython3",
   "version": "3.12.0"
  }
 },
 "nbformat": 4,
 "nbformat_minor": 2
}
