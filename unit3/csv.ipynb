{
 "cells": [
  {
   "cell_type": "code",
   "execution_count": 1,
   "metadata": {},
   "outputs": [],
   "source": [
    "import csv"
   ]
  },
  {
   "cell_type": "markdown",
   "metadata": {},
   "source": [
    "reader as a abasic csv file with default delimiter of ,"
   ]
  },
  {
   "cell_type": "code",
   "execution_count": 2,
   "metadata": {},
   "outputs": [
    {
     "name": "stdout",
     "output_type": "stream",
     "text": [
      "['Name', 'Age', 'Profession']\n",
      "['varidh', '24', 'Enginner']\n",
      "['Minesh', '25', 'Enginner']\n",
      "['vidit', '24', 'dotor']\n",
      "['suhas', '30', 'Doctor']\n",
      "['Turbo', '40', 'Teacher']\n"
     ]
    }
   ],
   "source": [
    "with open('emp.csv','r') as file:\n",
    "    reader = csv.reader(file)\n",
    "    for r in reader:\n",
    "        print(r)"
   ]
  },
  {
   "cell_type": "code",
   "execution_count": 5,
   "metadata": {},
   "outputs": [
    {
     "data": {
      "text/plain": [
       "list"
      ]
     },
     "execution_count": 5,
     "metadata": {},
     "output_type": "execute_result"
    }
   ],
   "source": [
    "type(file)\n",
    "type(reader)\n",
    "type(r)"
   ]
  },
  {
   "cell_type": "markdown",
   "metadata": {},
   "source": [
    "read a basic csv file with specified delimiter and process the colums heading and values in each row"
   ]
  },
  {
   "cell_type": "code",
   "execution_count": 6,
   "metadata": {},
   "outputs": [
    {
     "name": "stdout",
     "output_type": "stream",
     "text": [
      "Column name are Name,Age,Profession\n",
      "varidh aged 24 years works as Enginner\n",
      "Minesh aged 25 years works as Enginner\n",
      "vidit aged 24 years works as dotor\n",
      "suhas aged 30 years works as Doctor\n",
      "Turbo aged 40 years works as Teacher\n",
      "The Number of lines read in the csv file is 6\n"
     ]
    }
   ],
   "source": [
    "with open('emp.csv','r') as file:\n",
    "    reader= csv.reader(file,delimiter=',')\n",
    "    line_count=0\n",
    "    for r in reader:\n",
    "        if line_count==0:\n",
    "            print(f\"Column name are {\",\".join(r)}\")\n",
    "            line_count+=1\n",
    "        else:\n",
    "            print(f'{r[0]} aged {r[1]} years works as {r[2]}')\n",
    "            line_count+=1\n",
    "    print(f'The Number of lines read in the csv file is {line_count}')\n"
   ]
  },
  {
   "cell_type": "markdown",
   "metadata": {},
   "source": [
    "Open txt file as csv values with a specified delimiter"
   ]
  },
  {
   "cell_type": "code",
   "execution_count": 7,
   "metadata": {},
   "outputs": [
    {
     "name": "stdout",
     "output_type": "stream",
     "text": [
      "['Name', 'Age', 'Profession']\n",
      "['varidh', '24', 'Enginner']\n",
      "['Minesh', '25', 'Enginner']\n",
      "['vidit', '24', 'dotor']\n",
      "['suhas', '30', 'Doctor']\n",
      "['Turbo', '40', 'Teacher']\n"
     ]
    }
   ],
   "source": [
    "with open('emp1.txt','r') as file:\n",
    "    reader=csv.reader(file,delimiter=\";\")\n",
    "    for r in reader:\n",
    "        print(r)"
   ]
  },
  {
   "cell_type": "code",
   "execution_count": 9,
   "metadata": {},
   "outputs": [
    {
     "name": "stdout",
     "output_type": "stream",
     "text": [
      "['Name', 'Age', 'Profession']\n",
      "['varidh', '24', 'Enginner']\n",
      "['Minesh', '25', 'Enginner']\n",
      "['vidit', '24', 'dotor']\n",
      "['suhas', '30', 'Doctor']\n",
      "['Turbo', '40', 'Teacher']\n"
     ]
    }
   ],
   "source": [
    "with open('emp2.txt','r') as file:\n",
    "    reader=csv.reader(file,delimiter=\" \")\n",
    "    for r in reader:\n",
    "        print(r)"
   ]
  },
  {
   "cell_type": "markdown",
   "metadata": {},
   "source": [
    "# read csv file as disctionary"
   ]
  },
  {
   "cell_type": "code",
   "execution_count": 11,
   "metadata": {},
   "outputs": [
    {
     "name": "stdout",
     "output_type": "stream",
     "text": [
      "Clumn Name are -Name,Age,Profession\n",
      "Minesh aged 25 years worked as Enginner\n",
      "vidit aged 24 years worked as dotor\n",
      "suhas aged 30 years worked as Doctor\n",
      "Turbo aged 40 years worked as Teacher\n",
      "Numer of lines -- 5\n"
     ]
    }
   ],
   "source": [
    "with open('emp.csv','r') as file:\n",
    "    reader = csv.DictReader(file, skipinitialspace=True)\n",
    "    line_count=0\n",
    "    for r in reader:\n",
    "        if line_count==0:\n",
    "            print(f'Clumn Name are -{\",\".join(r)}')\n",
    "            line_count+=1\n",
    "        else:\n",
    "            print(f'{r.get('Name')} aged {r.get('Age')} years worked as {r.get('Profession')}')\n",
    "            line_count+=1\n",
    "    print(f'Numer of lines -- {line_count}')"
   ]
  },
  {
   "cell_type": "markdown",
   "metadata": {},
   "source": [
    "# read txt file as dict and remove extra spaces around the column name"
   ]
  },
  {
   "cell_type": "code",
   "execution_count": 14,
   "metadata": {},
   "outputs": [
    {
     "name": "stdout",
     "output_type": "stream",
     "text": [
      "Clumns name are : Name;Age;Profession\n",
      "Minesh aged 25 kives in Enginner\n",
      "vidit aged 24 kives in dotor\n",
      "suhas aged 30 kives in Doctor\n",
      "Turbo aged 40 kives in Teacher\n",
      "Numer of lines -- 5\n"
     ]
    }
   ],
   "source": [
    "with open('emp1.txt','r') as file:\n",
    "    reader=csv.DictReader(file,delimiter=';',skipinitialspace=True)\n",
    "    lc=0\n",
    "    for r in reader:\n",
    "        if lc==0:\n",
    "            print(f\"Clumns name are : {';'.join(r)}\")\n",
    "            lc+=1\n",
    "        else:\n",
    "            print(f'{r['Name']} aged {r['Age']} kives in {r['Profession']}')\n",
    "            lc+=1\n",
    "    print(f'Numer of lines -- {line_count}')"
   ]
  },
  {
   "cell_type": "markdown",
   "metadata": {},
   "source": [
    "# Write CSV files"
   ]
  },
  {
   "cell_type": "markdown",
   "metadata": {},
   "source": [
    "write a csv file usig writer and writerow method"
   ]
  },
  {
   "cell_type": "code",
   "execution_count": 18,
   "metadata": {},
   "outputs": [],
   "source": [
    "with open('emp.csv','w') as file:\n",
    "    e_writer =csv.writer(file, delimiter=',',quotechar='\"', quoting=csv.QUOTE_MINIMAL)\n",
    "    # quoting can have values Quote_MINIMAL, OUOYE_ALL, QUOTE_NONE or QUOTE_NONNUMERIC\n",
    "    e_writer.writerow(['Name','Age','Profession'])\n",
    "    e_writer.writerow(['Jack','20','Doctoe'])\n",
    "    e_writer.writerow(['Jill','22','Doctoe'])"
   ]
  },
  {
   "cell_type": "code",
   "execution_count": null,
   "metadata": {},
   "outputs": [],
   "source": []
  }
 ],
 "metadata": {
  "kernelspec": {
   "display_name": "Python 3",
   "language": "python",
   "name": "python3"
  },
  "language_info": {
   "codemirror_mode": {
    "name": "ipython",
    "version": 3
   },
   "file_extension": ".py",
   "mimetype": "text/x-python",
   "name": "python",
   "nbconvert_exporter": "python",
   "pygments_lexer": "ipython3",
   "version": "3.12.0"
  }
 },
 "nbformat": 4,
 "nbformat_minor": 2
}
