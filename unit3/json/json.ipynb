{
 "cells": [
  {
   "cell_type": "code",
   "execution_count": 1,
   "metadata": {},
   "outputs": [],
   "source": [
    "import json as j"
   ]
  },
  {
   "cell_type": "code",
   "execution_count": 2,
   "metadata": {},
   "outputs": [],
   "source": [
    "p='{\"name\":\"AAA\", \"language\":[\"English\",\"Hindi\",\"Kannada\"]}'"
   ]
  },
  {
   "cell_type": "code",
   "execution_count": 9,
   "metadata": {},
   "outputs": [
    {
     "name": "stdout",
     "output_type": "stream",
     "text": [
      "Kannada\n",
      "{'name': 'AAA', 'language': ['English', 'Hindi', 'Kannada']}\n",
      "['English', 'Hindi', 'Kannada']\n",
      "AAA\n"
     ]
    }
   ],
   "source": [
    "p_d=j.loads(p)\n",
    "print(p_d['language'][2])\n",
    "print(p_d)\n",
    "print(p_d['language'])\n",
    "print(p_d[\"name\"])"
   ]
  },
  {
   "cell_type": "markdown",
   "metadata": {},
   "source": [
    "### read a json file"
   ]
  },
  {
   "cell_type": "code",
   "execution_count": 11,
   "metadata": {},
   "outputs": [
    {
     "name": "stdout",
     "output_type": "stream",
     "text": [
      "{'name': 'BBB', 'language': ['English', 'Hindi', 'Marathi', 'Punjabi']}\n"
     ]
    }
   ],
   "source": [
    "with open('name.json') as f:\n",
    "    data=j.load(f)\n",
    "print(data)"
   ]
  },
  {
   "cell_type": "code",
   "execution_count": 12,
   "metadata": {},
   "outputs": [
    {
     "name": "stdout",
     "output_type": "stream",
     "text": [
      "{'name': 'BBB', 'language': ['English', 'Hindi', 'Marathi', 'Punjabi']}\n"
     ]
    }
   ],
   "source": [
    "with open('namet.txt') as f:\n",
    "    data=j.load(f)\n",
    "print(data)"
   ]
  },
  {
   "cell_type": "code",
   "execution_count": 17,
   "metadata": {},
   "outputs": [
    {
     "name": "stdout",
     "output_type": "stream",
     "text": [
      "name: AAA\n",
      "Phone Number +91 99999392\n",
      "Address:11, 4th main sri avri enclave banashakari\n",
      "\n",
      "\n",
      "name: BBB\n",
      "Phone Number +91 123456789\n",
      "Address:11, 4th main sri avri SHELTERS banashakari\n",
      "\n",
      "\n",
      "name: CCC\n",
      "Phone Number +91 9876543211\n",
      "Address:11, 4th main HOSTEL banashakari\n",
      "\n",
      "\n",
      "name: DDD\n",
      "Phone Number +91 36746734373\n",
      "Address:11, 4th main banashakari\n",
      "\n",
      "\n"
     ]
    }
   ],
   "source": [
    "with open('emp.json') as f:\n",
    "    data=j.load(f)\n",
    "for n in data:\n",
    "    print(f'name: {n}')\n",
    "    print(f'Phone Number {data[n][\"number\"]}')\n",
    "    print(f'Address:{data[n][\"address\"]}')\n",
    "    print(\"\\n\")"
   ]
  },
  {
   "cell_type": "code",
   "execution_count": 23,
   "metadata": {},
   "outputs": [
    {
     "name": "stdout",
     "output_type": "stream",
     "text": [
      "name: AAA\n",
      "1 1 ,   4 t h   m a i n   s r i   a v r i   e n c l a v e   b a n a s h a k a r i \n",
      "\n",
      "name: BBB\n",
      "1 1 ,   4 t h   m a i n   s r i   a v r i   S H E L T E R S   b a n a s h a k a r i \n",
      "\n",
      "name: CCC\n",
      "1 1 ,   4 t h   m a i n   H O S T E L   b a n a s h a k a r i \n",
      "\n",
      "name: DDD\n",
      "1 1 ,   4 t h   m a i n   b a n a s h a k a r i \n",
      "\n"
     ]
    }
   ],
   "source": [
    "for n in data:\n",
    "        print(f'name: {n}')\n",
    "        for l in data[n][\"address\"]:\n",
    "            print(l,end=\" \")\n",
    "        print(\"\\n\")\n"
   ]
  },
  {
   "cell_type": "markdown",
   "metadata": {},
   "source": [
    "# convert dictionary into json object"
   ]
  },
  {
   "cell_type": "code",
   "execution_count": 30,
   "metadata": {},
   "outputs": [
    {
     "name": "stdout",
     "output_type": "stream",
     "text": [
      "<class 'dict'>\n",
      "<class 'dict'>\n"
     ]
    }
   ],
   "source": [
    "n_d={\n",
    "    'name':'XX',\n",
    "    'age':33,\n",
    "    'married':False,\n",
    "    'children':None\n",
    "}\n",
    "print(type(n_d))\n",
    "n_j=j.dumps(n_d)\n",
    "print(type(n_d))"
   ]
  },
  {
   "cell_type": "markdown",
   "metadata": {},
   "source": [
    "## Write json data into a file"
   ]
  },
  {
   "cell_type": "code",
   "execution_count": 31,
   "metadata": {},
   "outputs": [],
   "source": [
    "with open('namet.txt',\"w\") as f:\n",
    "    j.dump(n_d,f)"
   ]
  },
  {
   "cell_type": "code",
   "execution_count": 32,
   "metadata": {},
   "outputs": [],
   "source": [
    "with open('namej.json',\"w\") as f:\n",
    "    j.dump(n_d,f)"
   ]
  },
  {
   "cell_type": "code",
   "execution_count": 33,
   "metadata": {},
   "outputs": [],
   "source": [
    "with open('name3.json',\"w\") as f:\n",
    "    j.dump(n_d,f,indent=4 )"
   ]
  },
  {
   "cell_type": "code",
   "execution_count": 38,
   "metadata": {},
   "outputs": [],
   "source": [
    "n_d={\"XXX\":{\n",
    "    'age':33,\n",
    "    'married':False,\n",
    "    'children':None\n",
    "},\n",
    "\"AAA\":{\n",
    "    'age':23,\n",
    "    'married':True,\n",
    "    'children':None\n",
    "},\n",
    "\"BBB\":{\n",
    "    'age':45,\n",
    "    'married':True,\n",
    "    'children':True\n",
    "}}\n",
    "\n"
   ]
  },
  {
   "cell_type": "code",
   "execution_count": 40,
   "metadata": {},
   "outputs": [],
   "source": [
    "with open('name4.json',\"w\") as f:\n",
    "    j.dump(n_d,f,indent=4, sort_keys=True)"
   ]
  },
  {
   "cell_type": "markdown",
   "metadata": {},
   "source": [
    "assume a json file that has a following data name age salary department (values is more than 5 ) display the highest salary lowest salary and average age "
   ]
  },
  {
   "cell_type": "code",
   "execution_count": 46,
   "metadata": {},
   "outputs": [
    {
     "name": "stdout",
     "output_type": "stream",
     "text": [
      "name: AAA\n",
      "Salary: 30000\n",
      "name: BBB\n",
      "Salary: 40000\n",
      "name: CCC\n",
      "Salary: 50000\n",
      "name: DDD\n",
      "Salary: 60000\n"
     ]
    }
   ],
   "source": [
    "with open('salary.json') as f:\n",
    "    data=j.load(f)\n",
    "for n in data:\n",
    "    print(f'name: {n}')\n",
    "    print(f'Salary: {data[n][\"salary\"]}')\n",
    "    \n",
    "#     print(f'Address:{data[n][\"address\"]}')\n",
    "#     print(\"\\n\")"
   ]
  },
  {
   "cell_type": "code",
   "execution_count": null,
   "metadata": {},
   "outputs": [],
   "source": []
  }
 ],
 "metadata": {
  "kernelspec": {
   "display_name": "Python 3",
   "language": "python",
   "name": "python3"
  },
  "language_info": {
   "codemirror_mode": {
    "name": "ipython",
    "version": 3
   },
   "file_extension": ".py",
   "mimetype": "text/x-python",
   "name": "python",
   "nbconvert_exporter": "python",
   "pygments_lexer": "ipython3",
   "version": "3.12.0"
  }
 },
 "nbformat": 4,
 "nbformat_minor": 2
}
