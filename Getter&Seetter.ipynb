{
 "cells": [
  {
   "cell_type": "code",
   "execution_count": null,
   "metadata": {},
   "outputs": [],
   "source": [
    "# to rea the data you need to call getter\n",
    "#  to set the data setter "
   ]
  },
  {
   "cell_type": "markdown",
   "metadata": {},
   "source": [
    "Getter and setter"
   ]
  },
  {
   "cell_type": "code",
   "execution_count": 7,
   "metadata": {},
   "outputs": [
    {
     "name": "stdout",
     "output_type": "stream",
     "text": [
      "the age og turno is 17\n"
     ]
    }
   ],
   "source": [
    "class student:\n",
    "    def __init__(self,name,age):\n",
    "        self.name=name\n",
    "        self.__age=age\n",
    "    def get_age(self):\n",
    "        print(f\"the age og {self.name} is {self.__age}\")\n",
    "    def set_age(self, age):\n",
    "        self.__age=age\n",
    "s=student('turno', 12)\n",
    "s.name\n",
    "# s.__age\n",
    "s._student__age\n",
    "s.set_age(17)\n",
    "s.get_age()"
   ]
  },
  {
   "cell_type": "code",
   "execution_count": 13,
   "metadata": {},
   "outputs": [
    {
     "name": "stdout",
     "output_type": "stream",
     "text": [
      "Invlaid age\n",
      "the age og minesh is 11\n"
     ]
    }
   ],
   "source": [
    "class student:\n",
    "    def __init__(self,name,age):\n",
    "        self.name=name\n",
    "        self.__age=age\n",
    "    def get_age(self):\n",
    "        print(f\"the age og {self.name} is {self.__age}\")\n",
    "    def set_age(self, age):\n",
    "        if age<=0:\n",
    "            print(\"Invlaid age\")\n",
    "        else:\n",
    "            self.__age=age\n",
    "s=student('minesh', 11)\n",
    "s.set_age(-11)\n",
    "s.get_age()"
   ]
  },
  {
   "cell_type": "code",
   "execution_count": 23,
   "metadata": {},
   "outputs": [
    {
     "name": "stdout",
     "output_type": "stream",
     "text": [
      "the age og varidh is 21\n"
     ]
    }
   ],
   "source": [
    "class person:\n",
    "    def __init__(self, name,age):\n",
    "        self.name = name\n",
    "        self.__age = age\n",
    "    def get_name(self):\n",
    "        return self.name\n",
    "    def get_age(self):\n",
    "        print(f\"the age og {self.name} is {self.__age}\")\n",
    "    def set_age(self, age):\n",
    "        if age<=0:\n",
    "            print(\"Invlaid age\")\n",
    "        else:\n",
    "            self.__age=age\n",
    "\n",
    "class employee(person):\n",
    "    def __init__(self,emp_id,salary, name, age):\n",
    "        super().__init__(name,age)\n",
    "        self.emp_id= emp_id\n",
    "        self._salary = salary\n",
    "    def get_salary(self):\n",
    "        return self._salary\n",
    "    def set_age(self, salary):\n",
    "        if salary<=0:\n",
    "            print(\"Invlaid age\")\n",
    "        else:\n",
    "            self._salary=salary\n",
    "e=employee(1,2000,'varidh',20)\n",
    "e.set_age(21)\n",
    "e.get_age()"
   ]
  },
  {
   "cell_type": "code",
   "execution_count": null,
   "metadata": {},
   "outputs": [],
   "source": []
  }
 ],
 "metadata": {
  "kernelspec": {
   "display_name": "Python 3",
   "language": "python",
   "name": "python3"
  },
  "language_info": {
   "codemirror_mode": {
    "name": "ipython",
    "version": 3
   },
   "file_extension": ".py",
   "mimetype": "text/x-python",
   "name": "python",
   "nbconvert_exporter": "python",
   "pygments_lexer": "ipython3",
   "version": "3.12.0"
  }
 },
 "nbformat": 4,
 "nbformat_minor": 2
}
