{
 "cells": [
  {
   "cell_type": "code",
   "execution_count": null,
   "metadata": {},
   "outputs": [],
   "source": []
  },
  {
   "cell_type": "markdown",
   "metadata": {},
   "source": [
    "class variable"
   ]
  },
  {
   "cell_type": "markdown",
   "metadata": {},
   "source": [
    "classname.variablename"
   ]
  },
  {
   "cell_type": "markdown",
   "metadata": {},
   "source": [
    "instance varibale \n",
    "objectreference.variablename"
   ]
  },
  {
   "cell_type": "markdown",
   "metadata": {},
   "source": []
  },
  {
   "cell_type": "code",
   "execution_count": 15,
   "metadata": {},
   "outputs": [
    {
     "name": "stdout",
     "output_type": "stream",
     "text": [
      "2027309766224\n",
      "2027309766224\n",
      "2027309766224\n"
     ]
    }
   ],
   "source": [
    "class student:\n",
    "    college_name='PESU'\n",
    "    def __init__(self,name,age,sem):\n",
    "        self.name=name\n",
    "        self.age=age\n",
    "        self.semester=sem\n",
    "s1=student('a', 18,1)\n",
    "s2=student('b',18,19)\n",
    "# print(id(s1.college_name))\n",
    "# print(id(student.college_name)  )\n",
    "# print(id(s2.college_name)  )\n",
    "# s1.college_name='pesit'\n",
    "# print(id(s1.college_name))\n",
    "# print(id(student.college_name)  )\n",
    "# student.college_name\n",
    "# s1.college_name\n",
    "student.college_name='PESIT'\n",
    "s1.college_name='PESIT'\n",
    "s2.college_name='PESIT'\n",
    "print(id(s1.college_name))\n",
    "print(id(s2.college_name))\n",
    "print(id(student.college_name)  )\n",
    "# print(s1.college_name)"
   ]
  },
  {
   "cell_type": "code",
   "execution_count": 24,
   "metadata": {},
   "outputs": [
    {
     "name": "stdout",
     "output_type": "stream",
     "text": [
      "college nme is PESU\n",
      "college nme is in PESU\n",
      "the student a is studing in PES\n",
      "the student a is studing in PESU\n"
     ]
    }
   ],
   "source": [
    "class student:\n",
    "    college_name='PESU'\n",
    "    def __init__(self,name,age,sem):\n",
    "        self.name=name\n",
    "        self.age=age\n",
    "        self.semester=sem\n",
    "        print(\"college nme is \"+ str(self.college_name))\n",
    "        print(\"college nme is in \"+ str(student.college_name))\n",
    "    def show(self):\n",
    "        print(f\"the student {self.name} is studing in {self.college_name}\")\n",
    "        print(f\"the student {self.name} is studing in {student.college_name}\")\n",
    "s1=student('a', 18,1)\n",
    "# s2=student('b',18,19)\n",
    "s1.college_name='PES'\n",
    "s1.show()"
   ]
  },
  {
   "cell_type": "markdown",
   "metadata": {},
   "source": [
    "# instance variable dynamic creation"
   ]
  },
  {
   "cell_type": "code",
   "execution_count": 44,
   "metadata": {},
   "outputs": [
    {
     "name": "stdout",
     "output_type": "stream",
     "text": [
      "college nme is PESU\n",
      "college nme is in PESU\n",
      "A\n",
      "CS\n",
      "the student A is studing in PESU\n",
      "the student A is studing in PESU\n",
      "the student CS is studing in PESU\n",
      "None\n",
      "college nme is PESU\n",
      "college nme is in PESU\n",
      "B \n",
      "\n"
     ]
    }
   ],
   "source": [
    "class student:\n",
    "    college_name='PESU'\n",
    "    def __init__(self,name,age,sem):\n",
    "        self.name=name\n",
    "        self.age=age\n",
    "        self.semester=sem\n",
    "        print(\"college nme is \"+ str(self.college_name))\n",
    "        print(\"college nme is in \"+ str(student.college_name))\n",
    "    def show(self):\n",
    "        print(f\"the student {self.name} is studing in {self.college_name}\")\n",
    "        print(f\"the student {self.name} is studing in {student.college_name}\")\n",
    "        print(f\"the student {self.branch} is studing in {student.college_name}\")\n",
    "s1=student('A',18,1)\n",
    "s1.branch='CS'\n",
    "id(s1)\n",
    "print(s1.name)\n",
    "print(s1.branch)\n",
    "print(s1.show())\n",
    "s2=student('B',20,'II')\n",
    "print(s2.name,\"\\n\")"
   ]
  },
  {
   "cell_type": "code",
   "execution_count": 53,
   "metadata": {},
   "outputs": [
    {
     "name": "stdout",
     "output_type": "stream",
     "text": [
      "Name : John Department :HRSalary Amount : 2000\n",
      "Name : John Department :HRSalary Amount : 7000\n",
      "Name : John Department :HRSalary Amount : 500\n",
      "Name : John Department :HRSalary Amount : 5500\n"
     ]
    }
   ],
   "source": [
    "# class c/d as employee employee has a name dep and salary the raise amount is common to all the instances , have a method which showa the salary \n",
    "# // after applying raise.\n",
    "class employee:\n",
    "    raise_salary='5000'\n",
    "    def __init__(self, name, dep,salary_amount):\n",
    "        self.name = name\n",
    "        self.dep = dep\n",
    "        self.salary= salary_amount\n",
    "    def showsal(self):\n",
    "        print(f\"Name : {self.name} Department :{self.dep}Salary Amount : {self.salary}\" )\n",
    "    def raisesal(self):\n",
    "        self.salary += int(employee.raise_salary)\n",
    "        print(f\"Name : {self.name} Department :{self.dep}Salary Amount : {self.salary}\" )\n",
    "        \n",
    "emp1 = employee(\"John\", \"HR\", 2000)\n",
    "emp2 = employee(\"John\", \"HR\", 500)\n",
    "\n",
    "emp1.showsal()\n",
    "emp1.raisesal()\n",
    "emp2.showsal()\n",
    "emp2.raisesal()\n",
    "\n"
   ]
  },
  {
   "cell_type": "code",
   "execution_count": 59,
   "metadata": {},
   "outputs": [
    {
     "name": "stdout",
     "output_type": "stream",
     "text": [
      "you have borrowed one copy\n",
      "Title :  book1\n",
      "Author :  author1\n",
      "Number of copies :  2\n",
      "you have borrowed one copy\n",
      "Title :  book1\n",
      "Author :  author1\n",
      "Number of copies :  1\n",
      "you have borrowed one copy\n",
      "Title :  book1\n",
      "Author :  author1\n",
      "Number of copies :  0\n"
     ]
    }
   ],
   "source": [
    "# create a class for book where each book has a title author and number of copies YOU SHOUD HAVE A METHOD CALLED BORROW THE NUMBER OF THE copies dec on every borrows \n",
    "class book:\n",
    "    def __init__(self,title,author,num_of_copies):\n",
    "        self.title = title\n",
    "        self.author= author\n",
    "        self.available_copies = num_of_copies\n",
    "    def display(self):\n",
    "        print(\"Title : \",self.title)\n",
    "        print(\"Author : \",self.author)\n",
    "        print(\"Number of copies : \",self.available_copies)\n",
    "    def borrow(self):\n",
    "        if self.available_copies > 0:\n",
    "            self.available_copies -=1\n",
    "            print(f\"you have borrowed one copy\")\n",
    "        else:\n",
    "            print(\"Sorry! No books are available.\")\n",
    "book1=book('book1','author1',3)\n",
    "book2=book('book2','author2',5)\n",
    "book1.borrow()\n",
    "book1.display()\n",
    "book1.borrow()\n",
    "book1.display()\n",
    "book1.borrow()\n",
    "book1.display()"
   ]
  },
  {
   "cell_type": "code",
   "execution_count": null,
   "metadata": {},
   "outputs": [],
   "source": []
  }
 ],
 "metadata": {
  "kernelspec": {
   "display_name": "Python 3",
   "language": "python",
   "name": "python3"
  },
  "language_info": {
   "codemirror_mode": {
    "name": "ipython",
    "version": 3
   },
   "file_extension": ".py",
   "mimetype": "text/x-python",
   "name": "python",
   "nbconvert_exporter": "python",
   "pygments_lexer": "ipython3",
   "version": "3.12.0"
  }
 },
 "nbformat": 4,
 "nbformat_minor": 2
}
