{
 "cells": [
  {
   "cell_type": "code",
   "execution_count": 5,
   "metadata": {},
   "outputs": [],
   "source": [
    "class car:\n",
    "    def __init__(self,make,model,year):\n",
    "        self.make = make\n",
    "        self.model = model\n",
    "        self.year = year\n",
    "        self.reading = 0\n",
    "    def start(self):\n",
    "        print(\"The %s %s is starting.\"%(self.year,self.make))\n",
    "    def stop(self):\n",
    "        print(\"The %s %s has stopped.\"%(self.year,self.make))\n",
    "    # def  reading_meter(self):\n",
    "    #     return \"This car's %s odometer reading is %s miles.\"%(str(self.model),str(self.reading))\n",
    "    # def update_reading(self, kms):\n",
    "    #     self.reading =kms\n",
    "    # def increment_reading(self,kms):\n",
    "    #     \"\"\"Add the number of kilometers passed to the current reading\"\"\"\n",
    "    #     self.update_reading(self.reading + kms)"
   ]
  },
  {
   "cell_type": "code",
   "execution_count": 6,
   "metadata": {},
   "outputs": [],
   "source": [
    "class ElectriccAR(car):\n",
    "    def __init__(self, make,model,year):\n",
    "        super().__init__(make, model, year)\n",
    "        "
   ]
  },
  {
   "cell_type": "code",
   "execution_count": 7,
   "metadata": {},
   "outputs": [],
   "source": [
    "eca1= ElectriccAR('tesla','cybertruck', 2023)"
   ]
  },
  {
   "cell_type": "code",
   "execution_count": 8,
   "metadata": {},
   "outputs": [
    {
     "name": "stdout",
     "output_type": "stream",
     "text": [
      "The 2023 tesla is starting.\n"
     ]
    }
   ],
   "source": [
    "eca1.start()\n"
   ]
  },
  {
   "cell_type": "code",
   "execution_count": 13,
   "metadata": {},
   "outputs": [],
   "source": [
    "class ElectriccAR(car):\n",
    "    def __init__(self, make,model,year):\n",
    "        super().__init__(make, model, year)\n",
    "        self.battery=70\n",
    "    def describe_battery(self):\n",
    "        print(\"the car \"+ self.model+\" has a \"+str(self.battery)+\"kwh battery\")"
   ]
  },
  {
   "cell_type": "code",
   "execution_count": 14,
   "metadata": {},
   "outputs": [
    {
     "name": "stdout",
     "output_type": "stream",
     "text": [
      "the car cybertruck has a 70kwh battery\n"
     ]
    }
   ],
   "source": [
    "eca2= ElectriccAR('suzuki','cybertruck', 2023)\n",
    "eca2.describe_battery()"
   ]
  },
  {
   "cell_type": "code",
   "execution_count": 15,
   "metadata": {},
   "outputs": [],
   "source": [
    "# prent and the class haveing the same method\n",
    "class car:\n",
    "    def __init__(self,make,model,year):\n",
    "        self.make = make\n",
    "        self.model = model\n",
    "        self.year = year\n",
    "        self.reading = 0\n",
    "    def start(self):\n",
    "        print(\"The %s %s is starting.\"%(self.year,self.make))\n",
    "    def stop(self):\n",
    "        print(\"The %s %s has stopped.\"%(self.year,self.make))\n",
    "    def drive(self):\n",
    "        print(self.model + \"is a fossile fuel car\")"
   ]
  },
  {
   "cell_type": "code",
   "execution_count": 16,
   "metadata": {},
   "outputs": [],
   "source": [
    "class ElectriccAR(car):\n",
    "    def __init__(self, make,model,year):\n",
    "        super().__init__(make, model, year)\n",
    "        self.battery=70\n",
    "    def describe_battery(self):\n",
    "        print(\"the car \"+ self.model+\" has a \"+str(self.battery)+\"kwh battery\")\n",
    "    def drive(self):\n",
    "        print(self.model + \"is a elscti car\")"
   ]
  },
  {
   "cell_type": "code",
   "execution_count": 17,
   "metadata": {},
   "outputs": [],
   "source": [
    "eca2= ElectriccAR('suzuki','cybertruck', 2023)"
   ]
  },
  {
   "cell_type": "code",
   "execution_count": 18,
   "metadata": {},
   "outputs": [
    {
     "name": "stdout",
     "output_type": "stream",
     "text": [
      "cybertruckis a elscti car\n"
     ]
    }
   ],
   "source": [
    "eca2.drive()"
   ]
  },
  {
   "cell_type": "code",
   "execution_count": 6,
   "metadata": {},
   "outputs": [],
   "source": [
    "# independent class as an attribute \n",
    "class battery:\n",
    "    def __init__(self, battery_s=70):\n",
    "        self.battery_s=battery_s\n",
    "    def descrbe_battery(self):\n",
    "        print(\"This battery has {}% of its original strength.\" .format(self.battery_s))\n",
    "class car:\n",
    "    def __init__(self,make,model,year):\n",
    "        self.make = make\n",
    "        self.model = model\n",
    "        self.year = year\n",
    "        self.reading = 0\n",
    "    def start(self):\n",
    "        print(\"The %s %s is starting.\"%(self.year,self.make))\n",
    "    def stop(self):\n",
    "        print(\"The %s %s has stopped.\"%(self.year,self.make))\n",
    "    def drive(self):\n",
    "        print(self.model + \"is a fossile fuel car\")\n",
    "class ElectriccAR(car):\n",
    "    def __init__(self, make,model,year):\n",
    "        super().__init__(make, model, year)\n",
    "        self.battery=battery()\n",
    "    def drive(self):\n",
    "        print(self.model + \"is a elscti car\")\n",
    "ecar4=ElectriccAR('car34','modelnv','2023')\n"
   ]
  },
  {
   "cell_type": "code",
   "execution_count": 13,
   "metadata": {},
   "outputs": [
    {
     "name": "stdout",
     "output_type": "stream",
     "text": [
      "modelnvis a elscti car\n",
      "This battery has 70% of its original strength.\n"
     ]
    }
   ],
   "source": [
    "ecar4.drive()\n",
    "ecar4.battery.descrbe_battery()"
   ]
  },
  {
   "cell_type": "code",
   "execution_count": 22,
   "metadata": {},
   "outputs": [
    {
     "name": "stdout",
     "output_type": "stream",
     "text": [
      "The shape is a triangel having3and yellowside od5legth\n"
     ]
    },
    {
     "data": {
      "text/plain": [
       "10.825317547305483"
      ]
     },
     "execution_count": 22,
     "metadata": {},
     "output_type": "execute_result"
    }
   ],
   "source": [
    "# multilevel inheritence\n",
    "#base class 1\n",
    "import math\n",
    "class shape:\n",
    "    def __init__(self, color):\n",
    "        self.color = color\n",
    "#base  class 2 child class 1\n",
    "class polygon(shape):\n",
    "    def __init__(self, color, sides ):\n",
    "        super().__init__(color)\n",
    "        self._sides= sides\n",
    "# child class 2\n",
    "class Trinagle(polygon):\n",
    "    def __init__(self, sides , color, s_length):\n",
    "        super().__init__(color, sides)\n",
    "        self._s_length = s_length\n",
    "    def area(self):\n",
    "        return (self._s_length**2*math.sqrt(3))/4\n",
    "tri=Trinagle('yellow',3,5)\n",
    "print(\"The shape is a triangel having\"+ str(tri.color)+\"and \"+str(tri._sides)+\"side od\"+str(tri._s_length)+\"legth\")\n",
    "tri.area()\n"
   ]
  },
  {
   "cell_type": "code",
   "execution_count": 34,
   "metadata": {},
   "outputs": [
    {
     "data": {
      "text/plain": [
       "16"
      ]
     },
     "execution_count": 34,
     "metadata": {},
     "output_type": "execute_result"
    }
   ],
   "source": [
    "# method resolution operator or mro\n",
    "import math\n",
    "# base class 1\n",
    "class shape:\n",
    "    def __init__(self, sides):\n",
    "        self.sides=sides\n",
    "    def __str__(self):\n",
    "        return f\"shapes with {self.sides} sides\"\n",
    "# base class 2 child class1\n",
    "class Polygon(shape):\n",
    "    pass\n",
    "    # def area(self):\n",
    "    #     print(\"Area not clculates for generic Polygno\")\n",
    "# childclass 2\n",
    "class Triangle(Polygon):\n",
    "    def __init__(self,sides, s_lenght):\n",
    "        super().__init__(sides)\n",
    "        self.s_lenght=s_lenght\n",
    "    def area(self):\n",
    "        return (self.s_lenght**2*math.sqrt(3))/4\n",
    "# child class 2b\n",
    "class square(Polygon):\n",
    "    def __init__(self, sides, s_lenght):\n",
    "        super().__init__(sides)\n",
    "        self.s_lenght= s_lenght\n",
    "    def area(self):\n",
    "        return self.s_lenght**2\n",
    "tri=Triangle(3,5)\n",
    "tri.area()\n",
    "sqa=square(4,4)\n",
    "Triangle.mro()\n",
    "square.mro()\n",
    "sqa.area()"
   ]
  },
  {
   "cell_type": "code",
   "execution_count": 51,
   "metadata": {},
   "outputs": [],
   "source": [
    "# multiple inherit\n",
    "class A:\n",
    "    def __init__(self,val):\n",
    "        self.val = val\n",
    "    def write(self):\n",
    "        print(\"A's write\"+str(self.val))\n",
    "class B:\n",
    "    def __init__(self,val):\n",
    "        self.val = val\n",
    "    def write(self):\n",
    "        print(\"B's write\"+str(self.val))\n",
    "class C(A,B):\n",
    "    def __init__(self,v1,v2):\n",
    "        super().__init__(v1)\n",
    "        super().__init__(v2)\n",
    "    def write(self):\n",
    "        A.write(self)\n",
    "        B.write(self)\n",
    "        c = C('Hello','World')\n",
    "class D(B,A):\n",
    "    def __init__(self,v1,v2):\n",
    "        super().__init__(v1)\n",
    "        super().__init__(v2)\n",
    "    # def write(self):\n",
    "    #     A.write(self)\n",
    "    #     B.write(self)\n",
    "        # c = C('Hello','World')\n",
    "class E(A,B):\n",
    "    def __init__(self,v1,v2):\n",
    "        super().__init__(v1)\n",
    "        self.val=v2\n",
    "\n"
   ]
  },
  {
   "cell_type": "code",
   "execution_count": 57,
   "metadata": {},
   "outputs": [
    {
     "name": "stdout",
     "output_type": "stream",
     "text": [
      "A's write20\n"
     ]
    }
   ],
   "source": [
    "# c=C(10,20)\n",
    "e=E(10,20)\n",
    "e.write()"
   ]
  },
  {
   "cell_type": "code",
   "execution_count": 53,
   "metadata": {},
   "outputs": [],
   "source": []
  },
  {
   "cell_type": "code",
   "execution_count": 54,
   "metadata": {},
   "outputs": [
    {
     "data": {
      "text/plain": [
       "[__main__.C, __main__.A, __main__.B, object]"
      ]
     },
     "execution_count": 54,
     "metadata": {},
     "output_type": "execute_result"
    }
   ],
   "source": [
    "C.mro()"
   ]
  },
  {
   "cell_type": "code",
   "execution_count": 75,
   "metadata": {},
   "outputs": [
    {
     "name": "stdout",
     "output_type": "stream",
     "text": [
      "Draw a gen\n",
      "coloring the shades withblue\n",
      "Adding texture to it:dotted\n"
     ]
    },
    {
     "data": {
      "text/plain": [
       "[__main__.texturedColorShape,\n",
       " __main__.texturedShape,\n",
       " __main__.coloredShape,\n",
       " __main__.shapes,\n",
       " object]"
      ]
     },
     "execution_count": 75,
     "metadata": {},
     "output_type": "execute_result"
    }
   ],
   "source": [
    "# Diamond prob\n",
    "class shapes:\n",
    "    def draw(self):\n",
    "        print(\"Draw a gen\")\n",
    "class coloredShape(shapes):\n",
    "    def __init__(self,color):\n",
    "        self.color = color\n",
    "    def draw(self):\n",
    "        super().draw()\n",
    "        print(\"coloring the shades with\"+self.color)\n",
    "class texturedShape(shapes):\n",
    "    def __init__(self,texture):\n",
    "        self.texture= texture\n",
    "    def draw(self):\n",
    "        super().draw()\n",
    "        print(\"Adding texture to it:\"+self.texture)\n",
    "class texturedColorShape(texturedShape,coloredShape):\n",
    "    def __init__(self,color,texture):\n",
    "        super().__init__(texture)\n",
    "        # super().__init__(color)\n",
    "        self.color=color\n",
    "        # super().__init__(color)\n",
    "        # self.texture=texture\n",
    "tcs=texturedColorShape('blue','dotted')\n",
    "tcs.draw()\n",
    "texturedShape.mro()\n",
    "texturedColorShape.mro()\n"
   ]
  },
  {
   "cell_type": "code",
   "execution_count": 72,
   "metadata": {},
   "outputs": [
    {
     "data": {
      "text/plain": [
       "[__main__.texturedColorShape,\n",
       " __main__.texturedShape,\n",
       " __main__.coloredShape,\n",
       " __main__.shapes,\n",
       " object]"
      ]
     },
     "execution_count": 72,
     "metadata": {},
     "output_type": "execute_result"
    }
   ],
   "source": [
    "texturedColorShape.mro()"
   ]
  },
  {
   "cell_type": "code",
   "execution_count": null,
   "metadata": {},
   "outputs": [],
   "source": [
    "class Animal:\n",
    "    _instances = 0\n",
    "\n",
    "    def __init__(self, name):\n",
    "        self.name = name\n",
    "        Animal._instances += 1\n",
    "\n",
    "    @classmethod\n",
    "    def get_instances(cls):\n",
    "        return cls._instances\n",
    "\n",
    "    def sound(self):\n",
    "        pass\n",
    "class Mammal(Animal):\n",
    "    def __init__(self, name):\n",
    "        super().__init__(name)\n",
    "\n",
    "    def give_birth(self):\n",
    "        pass\n",
    "\n",
    "    @property\n",
    "    def name(self):\n",
    "        return self._name\n",
    "\n",
    "    @name.setter\n",
    "    def name(self, value):\n",
    "        if not isinstance(value, str):\n",
    "            raise ValueError(\"Name must be a string\")\n",
    "        self._name = value\n",
    "\n",
    "class Bird(Animal):\n",
    "    def __init__(self, name):\n",
    "        super().__init__(name)\n",
    "\n",
    "    def give_birth(self):\n",
    "        pass\n",
    "\n",
    "    @property\n",
    "    def name(self):\n",
    "        return self._name\n",
    "\n",
    "    @name.setter\n",
    "    def name(self, value):\n",
    "        if not isinstance(value, str):\n",
    "            raise ValueError(\"Name must be a string\")\n",
    "        self._name = value\n",
    "\n",
    "class Bat(Mammal):\n",
    "    def __init__(self, name):\n",
    "        super().__init__(name)\n",
    "\n",
    "    def move(self):\n",
    "        pass\n",
    "\n",
    "    @property\n",
    "    def name(self):\n",
    "        return self._name\n",
    "\n",
    "    @name.setter\n",
    "    def name(self, value):\n",
    "        if not isinstance(value, str):\n",
    "            raise ValueError(\"Name must be a string\")\n",
    "        self._name = value\n",
    "\n",
    "class Ostrich(Bird):\n",
    "    def __init__(self, name):\n",
    "        super().__init__(name)\n",
    "\n",
    "    def move(self):\n",
    "        pass\n",
    "\n",
    "    @property\n",
    "    def name(self):\n",
    "        return self._name\n",
    "\n",
    "    @name.setter\n",
    "    def name(self, value):\n",
    "        if not isinstance(value, str):\n",
    "            raise ValueError(\"Name must be a string\")\n",
    "        self._name = value"
   ]
  }
 ],
 "metadata": {
  "kernelspec": {
   "display_name": "Python 3",
   "language": "python",
   "name": "python3"
  },
  "language_info": {
   "codemirror_mode": {
    "name": "ipython",
    "version": 3
   },
   "file_extension": ".py",
   "mimetype": "text/x-python",
   "name": "python",
   "nbconvert_exporter": "python",
   "pygments_lexer": "ipython3",
   "version": "3.12.0"
  }
 },
 "nbformat": 4,
 "nbformat_minor": 2
}
