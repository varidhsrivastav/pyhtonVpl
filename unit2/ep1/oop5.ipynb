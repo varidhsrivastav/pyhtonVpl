{
 "cells": [
  {
   "cell_type": "code",
   "execution_count": 1,
   "metadata": {},
   "outputs": [
    {
     "name": "stdout",
     "output_type": "stream",
     "text": [
      "Person 1:  {'name': 'John', 'age': 29}\n",
      "Person 2:  {'name': 'Emma', 'age': 23}\n",
      "Total Persons:  2\n",
      "Total Adults:  0\n",
      "Total Minors:  2\n"
     ]
    }
   ],
   "source": [
    "import datetime\n",
    "\n",
    "class Person:\n",
    "    total_persons = 0\n",
    "    total_adults = 0\n",
    "    total_minors = 0\n",
    "\n",
    "    @classmethod\n",
    "    def from_birth_year(cls, name, birth_year):\n",
    "        current_year = datetime.datetime.now().year\n",
    "        age = current_year - birth_year\n",
    "        return cls(name, age)\n",
    "\n",
    "    def __init__(self, name, age):\n",
    "        self.name = name\n",
    "        self.age = age\n",
    "        Person.total_persons += 1\n",
    "        if self.is_adult():\n",
    "            Person.total_adults += 1\n",
    "        else:\n",
    "            Person.total_minors += 1\n",
    "\n",
    "    @staticmethod\n",
    "    def is_adult(age=None):\n",
    "        if age is None:\n",
    "            return False\n",
    "        return age >= 18\n",
    "\n",
    "# Creating a person object using from_birth_year method\n",
    "person1 = Person.from_birth_year(\"John\", 1995)\n",
    "\n",
    "# Creating a person object using constructor method\n",
    "person2 = Person(\"Emma\", 23)\n",
    "\n",
    "# Printing person objects and count of total persons created, adults, and minors\n",
    "print(\"Person 1: \", person1.__dict__)\n",
    "print(\"Person 2: \", person2.__dict__)\n",
    "print(\"Total Persons: \", Person.total_persons)\n",
    "print(\"Total Adults: \", Person.total_adults)\n",
    "print(\"Total Minors: \", Person.total_minors)"
   ]
  },
  {
   "cell_type": "code",
   "execution_count": 22,
   "metadata": {},
   "outputs": [
    {
     "ename": "TypeError",
     "evalue": "person.is_adult() missing 1 required positional argument: 'age'",
     "output_type": "error",
     "traceback": [
      "\u001b[1;31m---------------------------------------------------------------------------\u001b[0m",
      "\u001b[1;31mTypeError\u001b[0m                                 Traceback (most recent call last)",
      "Cell \u001b[1;32mIn[22], line 24\u001b[0m\n\u001b[0;32m     22\u001b[0m         \u001b[38;5;28;01melse\u001b[39;00m:\n\u001b[0;32m     23\u001b[0m             person\u001b[38;5;241m.\u001b[39mminors\u001b[38;5;241m+\u001b[39m\u001b[38;5;241m=\u001b[39m\u001b[38;5;241m1\u001b[39m\n\u001b[1;32m---> 24\u001b[0m p1 \u001b[38;5;241m=\u001b[39m \u001b[43mperson\u001b[49m\u001b[38;5;241;43m.\u001b[39;49m\u001b[43mdeduce_age\u001b[49m\u001b[43m(\u001b[49m\u001b[38;5;124;43m'\u001b[39;49m\u001b[38;5;124;43mJohn\u001b[39;49m\u001b[38;5;124;43m'\u001b[39;49m\u001b[43m,\u001b[49m\u001b[38;5;241;43m2004\u001b[39;49m\u001b[43m)\u001b[49m\n\u001b[0;32m     25\u001b[0m p2 \u001b[38;5;241m=\u001b[39m person\u001b[38;5;241m.\u001b[39mdeduce_age(\u001b[38;5;124m'\u001b[39m\u001b[38;5;124mJane\u001b[39m\u001b[38;5;124m'\u001b[39m,\u001b[38;5;241m2003\u001b[39m)\n",
      "Cell \u001b[1;32mIn[22], line 9\u001b[0m, in \u001b[0;36mperson.deduce_age\u001b[1;34m(cls, name, birtyear)\u001b[0m\n\u001b[0;32m      7\u001b[0m current_year\u001b[38;5;241m=\u001b[39m\u001b[38;5;241m2024\u001b[39m\n\u001b[0;32m      8\u001b[0m age\u001b[38;5;241m=\u001b[39mbirtyear\u001b[38;5;241m-\u001b[39mcurrent_year\n\u001b[1;32m----> 9\u001b[0m \u001b[38;5;28;01mreturn\u001b[39;00m \u001b[38;5;28;43mcls\u001b[39;49m\u001b[43m(\u001b[49m\u001b[43mage\u001b[49m\u001b[43m,\u001b[49m\u001b[43mname\u001b[49m\u001b[43m)\u001b[49m\n",
      "Cell \u001b[1;32mIn[22], line 20\u001b[0m, in \u001b[0;36mperson.__init__\u001b[1;34m(self, name, age)\u001b[0m\n\u001b[0;32m     18\u001b[0m \u001b[38;5;28mself\u001b[39m\u001b[38;5;241m.\u001b[39mage\u001b[38;5;241m=\u001b[39mage\n\u001b[0;32m     19\u001b[0m person\u001b[38;5;241m.\u001b[39mtotal_person \u001b[38;5;241m+\u001b[39m\u001b[38;5;241m=\u001b[39m \u001b[38;5;241m1\u001b[39m\n\u001b[1;32m---> 20\u001b[0m \u001b[38;5;28;01mif\u001b[39;00m \u001b[38;5;28;43mself\u001b[39;49m\u001b[38;5;241;43m.\u001b[39;49m\u001b[43mis_adult\u001b[49m\u001b[43m(\u001b[49m\u001b[43m)\u001b[49m:\n\u001b[0;32m     21\u001b[0m     person\u001b[38;5;241m.\u001b[39madults\u001b[38;5;241m+\u001b[39m\u001b[38;5;241m=\u001b[39m\u001b[38;5;241m1\u001b[39m\n\u001b[0;32m     22\u001b[0m \u001b[38;5;28;01melse\u001b[39;00m:\n",
      "\u001b[1;31mTypeError\u001b[0m: person.is_adult() missing 1 required positional argument: 'age'"
     ]
    }
   ],
   "source": [
    "class person:\n",
    "    total_person=0\n",
    "    adults=0\n",
    "    minors=0\n",
    "    @classmethod\n",
    "    def deduce_age(cls, name, birtyear):\n",
    "        current_year=2024\n",
    "        age=birtyear-current_year\n",
    "        return cls(age,name)\n",
    "        \n",
    "    @staticmethod\n",
    "    def is_adult(age):\n",
    "        return age >=18\n",
    "    def display(self):\n",
    "        print(f\"Name : {self.name}Age :{self.age}\")\n",
    "    def __init__(self,name,age):\n",
    "        self.name=name\n",
    "        self.age=age\n",
    "        person.total_person += 1\n",
    "        if self.is_adult():\n",
    "            person.adults+=1\n",
    "        else:\n",
    "            person.minors+=1\n",
    "p1 = person.deduce_age('John',2004)\n",
    "p2 = person.deduce_age('Jane',2003)\n"
   ]
  },
  {
   "cell_type": "code",
   "execution_count": 26,
   "metadata": {},
   "outputs": [
    {
     "ename": "TypeError",
     "evalue": "Person() takes no arguments",
     "output_type": "error",
     "traceback": [
      "\u001b[1;31m---------------------------------------------------------------------------\u001b[0m",
      "\u001b[1;31mTypeError\u001b[0m                                 Traceback (most recent call last)",
      "Cell \u001b[1;32mIn[26], line 27\u001b[0m\n\u001b[0;32m     25\u001b[0m birth_year \u001b[38;5;241m=\u001b[39m \u001b[38;5;28mint\u001b[39m(\u001b[38;5;28minput\u001b[39m(\u001b[38;5;124m\"\u001b[39m\u001b[38;5;124mEnter your birth year: \u001b[39m\u001b[38;5;124m\"\u001b[39m))\n\u001b[0;32m     26\u001b[0m name \u001b[38;5;241m=\u001b[39m \u001b[38;5;28minput\u001b[39m(\u001b[38;5;124m\"\u001b[39m\u001b[38;5;124mEnter your name: \u001b[39m\u001b[38;5;124m\"\u001b[39m)\n\u001b[1;32m---> 27\u001b[0m person \u001b[38;5;241m=\u001b[39m \u001b[43mPerson\u001b[49m\u001b[38;5;241;43m.\u001b[39;49m\u001b[43mcreate_person\u001b[49m\u001b[43m(\u001b[49m\u001b[43mname\u001b[49m\u001b[43m,\u001b[49m\u001b[43m \u001b[49m\u001b[43mbirth_year\u001b[49m\u001b[43m)\u001b[49m\n\u001b[0;32m     28\u001b[0m \u001b[38;5;28mprint\u001b[39m(\u001b[38;5;124mf\u001b[39m\u001b[38;5;124m\"\u001b[39m\u001b[38;5;132;01m{\u001b[39;00mperson\u001b[38;5;241m.\u001b[39mname\u001b[38;5;132;01m}\u001b[39;00m\u001b[38;5;124m is \u001b[39m\u001b[38;5;132;01m{\u001b[39;00m\u001b[38;5;124m'\u001b[39m\u001b[38;5;124man adult\u001b[39m\u001b[38;5;124m'\u001b[39m\u001b[38;5;250m \u001b[39m\u001b[38;5;28;01mif\u001b[39;00m\u001b[38;5;250m \u001b[39mPerson\u001b[38;5;241m.\u001b[39mis_adult(person)\u001b[38;5;250m \u001b[39m\u001b[38;5;28;01melse\u001b[39;00m\u001b[38;5;250m \u001b[39m\u001b[38;5;124m'\u001b[39m\u001b[38;5;124mnot an adult\u001b[39m\u001b[38;5;124m'\u001b[39m\u001b[38;5;132;01m}\u001b[39;00m\u001b[38;5;124m\"\u001b[39m)\n\u001b[0;32m     29\u001b[0m \u001b[38;5;28mprint\u001b[39m(\u001b[38;5;124mf\u001b[39m\u001b[38;5;124m\"\u001b[39m\u001b[38;5;124mTotal persons: \u001b[39m\u001b[38;5;132;01m{\u001b[39;00mPerson\u001b[38;5;241m.\u001b[39mtotal_count\u001b[38;5;132;01m}\u001b[39;00m\u001b[38;5;124m\"\u001b[39m)\n",
      "Cell \u001b[1;32mIn[26], line 15\u001b[0m, in \u001b[0;36mPerson.create_person\u001b[1;34m(self, name, birth_year)\u001b[0m\n\u001b[0;32m     13\u001b[0m \u001b[38;5;28;01melse\u001b[39;00m:\n\u001b[0;32m     14\u001b[0m     \u001b[38;5;28mself\u001b[39m\u001b[38;5;241m.\u001b[39mnon_adult_count \u001b[38;5;241m+\u001b[39m\u001b[38;5;241m=\u001b[39m \u001b[38;5;241m1\u001b[39m\n\u001b[1;32m---> 15\u001b[0m \u001b[38;5;28;01mreturn\u001b[39;00m \u001b[38;5;28;43mself\u001b[39;49m\u001b[43m(\u001b[49m\u001b[43mname\u001b[49m\u001b[43m,\u001b[49m\u001b[43m \u001b[49m\u001b[43mage\u001b[49m\u001b[43m)\u001b[49m\n",
      "\u001b[1;31mTypeError\u001b[0m: Person() takes no arguments"
     ]
    }
   ],
   "source": [
    "class Person:\n",
    "    total_count = 0\n",
    "    adult_count = 0\n",
    "    non_adult_count = 0\n",
    "\n",
    "    @classmethod\n",
    "    def create_person(self, name, birth_year):\n",
    "        self.total_count += 1\n",
    "        current_year = int(input(\"Enter the current year: \"))\n",
    "        age = current_year - birth_year\n",
    "        if age >= 18:\n",
    "            self.adult_count += 1\n",
    "        else:\n",
    "            self.non_adult_count += 1\n",
    "        return self(name, age)\n",
    "\n",
    "    def _init_(self, name, age):\n",
    "        self.name = name\n",
    "        self.age = age\n",
    "\n",
    "    @staticmethod\n",
    "    def is_adult(person):\n",
    "        return person.age >= 18\n",
    "\n",
    "birth_year = int(input(\"Enter your birth year: \"))\n",
    "name = input(\"Enter your name: \")\n",
    "person = Person.create_person(name, birth_year)\n",
    "print(f\"{person.name} is {'an adult' if Person.is_adult(person) else 'not an adult'}\")\n",
    "print(f\"Total persons: {Person.total_count}\")\n",
    "print(f\"Total adults: {Person.adult_count}\")\n",
    "print(f\"Total non-adults: {Person.non_adult_count}\")"
   ]
  },
  {
   "cell_type": "code",
   "execution_count": 25,
   "metadata": {},
   "outputs": [
    {
     "ename": "TypeError",
     "evalue": "Person() takes no arguments",
     "output_type": "error",
     "traceback": [
      "\u001b[1;31m---------------------------------------------------------------------------\u001b[0m",
      "\u001b[1;31mTypeError\u001b[0m                                 Traceback (most recent call last)",
      "Cell \u001b[1;32mIn[25], line 21\u001b[0m\n\u001b[0;32m     18\u001b[0m     \u001b[38;5;129m@staticmethod\u001b[39m\n\u001b[0;32m     19\u001b[0m     \u001b[38;5;28;01mdef\u001b[39;00m \u001b[38;5;21mis_adult\u001b[39m(person):\n\u001b[0;32m     20\u001b[0m         \u001b[38;5;28;01mreturn\u001b[39;00m person\u001b[38;5;241m.\u001b[39mage\u001b[38;5;241m>\u001b[39m\u001b[38;5;241m=\u001b[39m\u001b[38;5;241m18\u001b[39m\n\u001b[1;32m---> 21\u001b[0m person \u001b[38;5;241m=\u001b[39m \u001b[43mPerson\u001b[49m\u001b[38;5;241;43m.\u001b[39;49m\u001b[43mcreate_person\u001b[49m\u001b[43m(\u001b[49m\u001b[38;5;124;43m\"\u001b[39;49m\u001b[38;5;124;43mvaridh\u001b[39;49m\u001b[38;5;124;43m\"\u001b[39;49m\u001b[43m,\u001b[49m\u001b[43m \u001b[49m\u001b[38;5;241;43m1999\u001b[39;49m\u001b[43m)\u001b[49m\n",
      "Cell \u001b[1;32mIn[23], line 15\u001b[0m, in \u001b[0;36mPerson.create_person\u001b[1;34m(self, name, birth_year)\u001b[0m\n\u001b[0;32m     13\u001b[0m \u001b[38;5;28;01melse\u001b[39;00m:\n\u001b[0;32m     14\u001b[0m     \u001b[38;5;28mself\u001b[39m\u001b[38;5;241m.\u001b[39mnon_adult_count \u001b[38;5;241m+\u001b[39m\u001b[38;5;241m=\u001b[39m \u001b[38;5;241m1\u001b[39m\n\u001b[1;32m---> 15\u001b[0m \u001b[38;5;28;01mreturn\u001b[39;00m \u001b[38;5;28;43mself\u001b[39;49m\u001b[43m(\u001b[49m\u001b[43mname\u001b[49m\u001b[43m,\u001b[49m\u001b[43m \u001b[49m\u001b[43mage\u001b[49m\u001b[43m)\u001b[49m\n",
      "\u001b[1;31mTypeError\u001b[0m: Person() takes no arguments"
     ]
    }
   ],
   "source": [
    "class person:\n",
    "    totalperson=0\n",
    "    adult=0\n",
    "    minor=0\n",
    "    @classmethod\n",
    "    def deduceperson(self, name, birthyear):\n",
    "        self.totalperson+=1\n",
    "        currentyear=2024\n",
    "        age=currentyear-birthyear\n",
    "        if age>=18:\n",
    "            self.adult+=1\n",
    "        else:\n",
    "            self.minor+=1\n",
    "        return self(name, age)\n",
    "    def __init__(self,name,age):\n",
    "        self.name =name\n",
    "        self.age=age\n",
    "    @staticmethod\n",
    "    def is_adult(person):\n",
    "        return person.age>=18\n",
    "person = Person.create_person(\"varidh\", 1999)\n",
    "\n"
   ]
  },
  {
   "cell_type": "code",
   "execution_count": null,
   "metadata": {},
   "outputs": [],
   "source": []
  }
 ],
 "metadata": {
  "kernelspec": {
   "display_name": "Python 3",
   "language": "python",
   "name": "python3"
  },
  "language_info": {
   "codemirror_mode": {
    "name": "ipython",
    "version": 3
   },
   "file_extension": ".py",
   "mimetype": "text/x-python",
   "name": "python",
   "nbconvert_exporter": "python",
   "pygments_lexer": "ipython3",
   "version": "3.12.0"
  }
 },
 "nbformat": 4,
 "nbformat_minor": 2
}
