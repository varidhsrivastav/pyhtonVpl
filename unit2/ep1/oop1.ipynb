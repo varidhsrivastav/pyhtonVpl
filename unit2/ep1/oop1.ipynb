{
 "cells": [
  {
   "cell_type": "markdown",
   "metadata": {},
   "source": [
    "There is a vehicle showroom that sells vehicles. 'total_vehicles' keeps track of the total number of vehicles sold. Each vehicle has a make, model and mileage.  update_total_vehicles is a class method.\n",
    "check_mileage_rating is a static method. "
   ]
  },
  {
   "cell_type": "code",
   "execution_count": 6,
   "metadata": {},
   "outputs": [
    {
     "name": "stdout",
     "output_type": "stream",
     "text": [
      "\n",
      "Details of added Car:\n",
      "<__main__.vehicalShowroom object at 0x0000025CCA0FA8A0>\n"
     ]
    }
   ],
   "source": [
    "# There is a vehicle showroom that sells vehicles. 'total_vehicles' keeps track of the total number of vehicles sold. Each vehicle has a make, model and mileage.  update_total_vehicles is a class method.\n",
    "# check_mileage_rating is a static method. \n",
    "class vehicalShowroom:\n",
    "    def __init__(self, brand, model, year):\n",
    "        self.brand = brand\n",
    "        self.model = model\n",
    "        self.year = year\n",
    "    @staticmethod\n",
    "    def check_mileage_rating(vehicle, mileage):\n",
    "        if vehicle.mileage > mileage:\n",
    "            return f\"The {vehicle.brand} {vehicle.model} has\"\n",
    "        else:\n",
    "            return \"The car's mileage rating is lower than the given        mileage.\"\n",
    "class update_total_vehical:\n",
    "    total_cars=0\n",
    "    @classmethod\n",
    "    def add_car(cls):\n",
    "        cls.total_cars +=1\n",
    "        print(\"Total cars in showroom are :\", cls.total_cars)\n",
    "        cls.add_car()\n",
    "obj = vehicalShowroom('Toyota', 'Camry', 201)\n",
    "print(f\"\\nDetails of added Car:\\n{obj}\")\n",
    "\n",
    "showroom1 = vehicalShowroom(\"Toyota\", \"Camry\", 20)\n",
    "\n"
   ]
  },
  {
   "cell_type": "code",
   "execution_count": 9,
   "metadata": {},
   "outputs": [],
   "source": [
    "def __repr__(self):\n",
    "    return f\"{self.make} {self.model} - {self.mileage} miles\"\n",
    "\n",
    "@classmethod\n",
    "def update_total_vehicles(cls, new_vehicle):\n",
    "    cls.total_vehicles += 1\n",
    "    return cls.total_vehicles\n",
    "\n",
    "@staticmethod\n",
    "def check_mileage_rating(mileage):\n",
    "    if mileage < 50000:\n",
    "        return \"New\"\n",
    "    elif mileage < 75000:\n",
    "        return \"Gently Used\"\n",
    "    elif mileage < 100000:\n",
    "        return \"Used\"\n",
    "    else:\n",
    "        return \"High Mileage\""
   ]
  },
  {
   "cell_type": "code",
   "execution_count": 10,
   "metadata": {},
   "outputs": [
    {
     "ename": "TypeError",
     "evalue": "VehicleShowroom() takes no arguments",
     "output_type": "error",
     "traceback": [
      "\u001b[1;31m---------------------------------------------------------------------------\u001b[0m",
      "\u001b[1;31mTypeError\u001b[0m                                 Traceback (most recent call last)",
      "Cell \u001b[1;32mIn[10], line 23\u001b[0m\n\u001b[0;32m     20\u001b[0m         \u001b[38;5;28;01melse\u001b[39;00m:\n\u001b[0;32m     21\u001b[0m             \u001b[38;5;28;01mreturn\u001b[39;00m \u001b[38;5;124m\"\u001b[39m\u001b[38;5;124mLow Mileage\u001b[39m\u001b[38;5;124m\"\u001b[39m\n\u001b[1;32m---> 23\u001b[0m vehicle1 \u001b[38;5;241m=\u001b[39m \u001b[43mVehicleShowroom\u001b[49m\u001b[43m(\u001b[49m\u001b[38;5;124;43m\"\u001b[39;49m\u001b[38;5;124;43mToyota\u001b[39;49m\u001b[38;5;124;43m\"\u001b[39;49m\u001b[43m,\u001b[49m\u001b[43m \u001b[49m\u001b[38;5;124;43m\"\u001b[39;49m\u001b[38;5;124;43mCamry\u001b[39;49m\u001b[38;5;124;43m\"\u001b[39;49m\u001b[43m,\u001b[49m\u001b[43m \u001b[49m\u001b[38;5;241;43m30\u001b[39;49m\u001b[43m)\u001b[49m\n\u001b[0;32m     24\u001b[0m vehicle2 \u001b[38;5;241m=\u001b[39m VehicleShowroom(\u001b[38;5;124m\"\u001b[39m\u001b[38;5;124mHonda\u001b[39m\u001b[38;5;124m\"\u001b[39m, \u001b[38;5;124m\"\u001b[39m\u001b[38;5;124mCivic\u001b[39m\u001b[38;5;124m\"\u001b[39m, \u001b[38;5;241m20\u001b[39m)\n\u001b[0;32m     27\u001b[0m \u001b[38;5;28mprint\u001b[39m(\u001b[38;5;124mf\u001b[39m\u001b[38;5;124m\"\u001b[39m\u001b[38;5;124mVehicle 1: \u001b[39m\u001b[38;5;132;01m{\u001b[39;00mvehicle1\u001b[38;5;241m.\u001b[39mmake\u001b[38;5;132;01m}\u001b[39;00m\u001b[38;5;124m \u001b[39m\u001b[38;5;132;01m{\u001b[39;00mvehicle1\u001b[38;5;241m.\u001b[39mmodel\u001b[38;5;132;01m}\u001b[39;00m\u001b[38;5;124m, Mileage: \u001b[39m\u001b[38;5;132;01m{\u001b[39;00mvehicle1\u001b[38;5;241m.\u001b[39mmileage\u001b[38;5;132;01m}\u001b[39;00m\u001b[38;5;124m\"\u001b[39m)\n",
      "\u001b[1;31mTypeError\u001b[0m: VehicleShowroom() takes no arguments"
     ]
    }
   ],
   "source": [
    "class VehicleShowroom:\n",
    "    total_vehicles = 0\n",
    "\n",
    "    def _init_(self, make, model, mileage):\n",
    "        self.make = make\n",
    "        self.model = model\n",
    "        self.mileage = mileage\n",
    "        VehicleShowroom.total_vehicles += 1\n",
    "\n",
    "    \n",
    "    def update_total_vehicles(cls, count):\n",
    "        cls.total_vehicles += count\n",
    "\n",
    "\n",
    "    def check_mileage_rating(mileage):\n",
    "        if mileage > 25:\n",
    "            return \"High Mileage\"\n",
    "        elif 15 <= mileage <= 25:\n",
    "            return \"Moderate Mileage\"\n",
    "        else:\n",
    "            return \"Low Mileage\"\n",
    "\n",
    "vehicle1 = VehicleShowroom(\"Toyota\", \"Camry\", 30)\n",
    "vehicle2 = VehicleShowroom(\"Honda\", \"Civic\", 20)\n",
    "\n",
    "\n",
    "print(f\"Vehicle 1: {vehicle1.make} {vehicle1.model}, Mileage: {vehicle1.mileage}\")\n",
    "print(f\"Vehicle 2: {vehicle2.make} {vehicle2.model}, Mileage: {vehicle2.mileage}\")\n",
    "\n",
    "\n",
    "print(f\"Mileage rating for Vehicle 1: {VehicleShowroom.check_mileage_rating(vehicle1.mileage)}\")\n",
    "print(f\"Mileage rating for Vehicle 2: {VehicleShowroom.check_mileage_rating(vehicle2.mileage)}\")"
   ]
  },
  {
   "cell_type": "code",
   "execution_count": 11,
   "metadata": {},
   "outputs": [
    {
     "name": "stdout",
     "output_type": "stream",
     "text": [
      "Vehicle 1 Mileage Rating: New\n",
      "Vehicle 2 Mileage Rating: Moderately Used\n",
      "Vehicle 3 Mileage Rating: High Mileage\n",
      "Total Number of Vehicles Sold: 3\n"
     ]
    }
   ],
   "source": [
    "class VehicleShowroom:\n",
    "   total_vehicles = 0\n",
    "\n",
    "   def __init__(self, make, model, mileage):\n",
    "       self.make = make\n",
    "       self.model = model\n",
    "       self.mileage = mileage\n",
    "       VehicleShowroom.update_total_vehicles()\n",
    "\n",
    "   @classmethod\n",
    "   def update_total_vehicles(cls):\n",
    "       cls.total_vehicles += 1\n",
    "\n",
    "   @staticmethod\n",
    "   def check_mileage_rating(mileage):\n",
    "       if mileage < 50000:\n",
    "           return \"New\"\n",
    "       elif mileage < 100000:\n",
    "           return \"Gently Used\"\n",
    "       elif mileage < 150000:\n",
    "           return \"Moderately Used\"\n",
    "       else:\n",
    "           return \"High Mileage\"\n",
    "\n",
    "# Test cases\n",
    "\n",
    "# Vehicle 1: Toyota, Corolla, 30000 miles\n",
    "vehicle1 = VehicleShowroom(\"Toyota\", \"Corolla\", 30000)\n",
    "print(f\"Vehicle 1 Mileage Rating: {VehicleShowroom.check_mileage_rating(vehicle1.mileage)}\")\n",
    "\n",
    "# Vehicle 2: Ford, Mustang, 120000 miles\n",
    "vehicle2 = VehicleShowroom(\"Ford\", \"Mustang\", 120000)\n",
    "print(f\"Vehicle 2 Mileage Rating: {VehicleShowroom.check_mileage_rating(vehicle2.mileage)}\")\n",
    "\n",
    "# Vehicle 3: Chevrolet, Silverado, 180000 miles\n",
    "vehicle3 = VehicleShowroom(\"Chevrolet\", \"Silverado\", 180000)\n",
    "print(f\"Vehicle 3 Mileage Rating: {VehicleShowroom.check_mileage_rating(vehicle3.mileage)}\")\n",
    "\n",
    "print(f\"Total Number of Vehicles Sold: {VehicleShowroom.total_vehicles}\")"
   ]
  },
  {
   "cell_type": "code",
   "execution_count": 16,
   "metadata": {},
   "outputs": [
    {
     "name": "stdout",
     "output_type": "stream",
     "text": [
      "Vehicle 1 Mileage Rating: mileage is greater than 1000\n",
      "Vehicle 2 Mileage Rating: mileage is in between 300 and 500\n"
     ]
    }
   ],
   "source": [
    "class vehicalshow:\n",
    "    toatal_vehicles = 0\n",
    "    def __init__(self,make,model,mileage):\n",
    "        self.make = make\n",
    "        self.model = model\n",
    "        self.mileage = mileage\n",
    "        # vehicalshow.update_total_vehicles()\n",
    "    @classmethod\n",
    "    def update_total_vehicles(self):\n",
    "       vehicalshow.toatal_vehicles+=1\n",
    "    #    self.toatal_vehicles += 1\n",
    "       print(f\"fhg{vehicalshow.toatal_vehicles}\")\n",
    "    @staticmethod\n",
    "    def check_mileage_rating(mileage):\n",
    "        if mileage >=1000:\n",
    "           return \"mileage is greater than 1000\"\n",
    "        elif mileage >=500 and mileage <1000:\n",
    "            return \"mileage is in between 500 and 1000\"\n",
    "        elif mileage >=300 and mileage <500:\n",
    "            return \"mileage is in between 300 and 500\"\n",
    "        else:\n",
    "            return \"milege is less than 300\"\n",
    "vehicle1 = vehicalshow(\"Toyota\", \"Corolla\", 3000)\n",
    "print(f\"Vehicle 1 Mileage Rating: {vehicalshow.check_mileage_rating(vehicle1.mileage)}\")\n",
    "vehicle2 = vehicalshow(\"Ford\", \"Mustang\", 400)\n",
    "print(f\"Vehicle 2 Mileage Rating: {vehicalshow.check_mileage_rating(vehicle2.mileage)}\")\n",
    "# print(f\"Total vehical : {vehicalshow.toatal_vehicles}\")"
   ]
  },
  {
   "cell_type": "code",
   "execution_count": 17,
   "metadata": {},
   "outputs": [
    {
     "name": "stdout",
     "output_type": "stream",
     "text": [
      "The future value of the account is: 1656.1212048\n"
     ]
    }
   ],
   "source": [
    "class BankAccount:\n",
    "    interest_rate = 0.01 # Assuming a fixed interest rate of 1%\n",
    "\n",
    "    def __init__(self, name, balance):\n",
    "        self.name = name\n",
    "        self.balance = balance\n",
    "\n",
    "    def deposit(self, amount):\n",
    "        self.balance += amount\n",
    "\n",
    "    def withdraw(self, amount):\n",
    "        if amount > self.balance:\n",
    "            raise ValueError(\"Insufficient balance\")\n",
    "        self.balance -= amount\n",
    "\n",
    "    @classmethod\n",
    "    def change_interest_rate(cls, new_rate):\n",
    "        cls.interest_rate = new_rate\n",
    "\n",
    "    @staticmethod\n",
    "    def calculate_future_value(present_value, interest_rate, years):\n",
    "        return present_value * (1 + interest_rate) ** years\n",
    "\n",
    "\n",
    "# Creating an account and depositing some money\n",
    "account1 = BankAccount(\"Alice\", 1000)\n",
    "account1.deposit(500)\n",
    "\n",
    "# Changing the interest rate for all accounts\n",
    "BankAccount.change_interest_rate(0.02)\n",
    "\n",
    "# Calculating the future value using a static method\n",
    "future_value = BankAccount.calculate_future_value(account1.balance, BankAccount.interest_rate, 5)\n",
    "print(f\"The future value of the account is: {future_value}\")"
   ]
  },
  {
   "cell_type": "code",
   "execution_count": 33,
   "metadata": {},
   "outputs": [
    {
     "name": "stdout",
     "output_type": "stream",
     "text": [
      "name= bhupendra jogi is\n",
      " balance =1000\n",
      "updated balance =1500\n",
      "future value: =  7650.0\n"
     ]
    }
   ],
   "source": [
    "class Bank:\n",
    "    intrest_Rate=0.04\n",
    "    def __init__(self, name, balance):\n",
    "        self.name = name\n",
    "        self.balance = balance\n",
    "    def deposit(self, amount):\n",
    "        self.balance += amount\n",
    "    def withdraw(self, amount):\n",
    "        self.balance -= amount\n",
    "    @classmethod\n",
    "    def change_rate_of_intrest(self, newrate):\n",
    "        self.intrest_Rate = newrate\n",
    "    @staticmethod\n",
    "    def future_value(present_value, intrest_Rate, years):\n",
    "        incrsedpresentvalue=present_value*intrest_Rate\n",
    "        return (present_value+incrsedpresentvalue) * years\n",
    "a1 = Bank(\"bhupendra jogi\", 1000)\n",
    "print(f\"name= {a1.name} is\")\n",
    "print(f\" balance ={a1.balance}\")\n",
    "a1.deposit(500)\n",
    "print(f\"updated balance ={a1.balance}\")\n",
    "Bank.change_rate_of_intrest(0.02)\n",
    "future_value = Bank.future_value(a1.balance, Bank.intrest_Rate, 5)\n",
    "print(f\"future value: =  {future_value}\")"
   ]
  },
  {
   "cell_type": "code",
   "execution_count": 40,
   "metadata": {},
   "outputs": [
    {
     "name": "stdout",
     "output_type": "stream",
     "text": [
      "name= bhupendra jogi is\n",
      " balance =1000\n",
      "updated balance =1500\n",
      "future value: =  7650.0\n"
     ]
    }
   ],
   "source": [
    "class Bank:\n",
    "    intrest_Rate=0.04\n",
    "    def __init__(self, name, balance):\n",
    "        self.name = name\n",
    "        self.balance = balance\n",
    "    def deposit(self, amount):\n",
    "        self.balance += amount\n",
    "    def withdraw(self, amount):\n",
    "        self.balance -= amount\n",
    "    @classmethod\n",
    "    def change_rate_of_intrest(self, newrate):\n",
    "        self.intrest_Rate = newrate\n",
    "    @staticmethod\n",
    "    def future_value(present_value, intrest_Rate, years):\n",
    "        incrsedpresentvalue=present_value*intrest_Rate\n",
    "        intryear= incrsedpresentvalue*years\n",
    "        return (present_value*years)+intryear\n",
    "a1 = Bank(\"bhupendra jogi\", 1000)\n",
    "print(f\"name= {a1.name} is\")\n",
    "print(f\" balance ={a1.balance}\")\n",
    "a1.deposit(500)\n",
    "print(f\"updated balance ={a1.balance}\")\n",
    "Bank.change_rate_of_intrest(0.02)\n",
    "future_value = Bank.future_value(a1.balance, Bank.intrest_Rate, 5)\n",
    "print(f\"future value: =  {future_value}\")"
   ]
  },
  {
   "cell_type": "code",
   "execution_count": 41,
   "metadata": {},
   "outputs": [
    {
     "name": "stdout",
     "output_type": "stream",
     "text": [
      "Title: Book 1, Author: Author 1, Copies: 5\n",
      "Title: Book 1, Author: Author 1, Copies: 5\n",
      "Title: Book 1, Author: Author 1, Copies: 5\n",
      "Total books in all libraries: 90\n"
     ]
    }
   ],
   "source": [
    "class Library:\n",
    "    total_books = 0\n",
    "\n",
    "    def __init__(self, name, address):\n",
    "        self.name = name\n",
    "        self.address = address\n",
    "        self.books = []\n",
    "\n",
    "    def add_book(self, title, author, num_copies):\n",
    "        book = {'title': title, 'author': author, 'num_copies': num_copies}\n",
    "        self.books.append(book)\n",
    "        Library.total_books += num_copies\n",
    "\n",
    "    @staticmethod\n",
    "    def search_books_by_author(author):\n",
    "        found_books = []\n",
    "        for library in Library.libraries:\n",
    "            for book in library.books:\n",
    "                if book['author'] == author:\n",
    "                    found_books.append(book)\n",
    "        return found_books\n",
    "\n",
    "    @classmethod\n",
    "    def get_total_books(cls):\n",
    "        return cls.total_books\n",
    "\n",
    "\n",
    "# Libraries and their books\n",
    "Library.libraries = [\n",
    "    Library('Library A', '123 Main St'),\n",
    "    Library('Library B', '456 Central St'),\n",
    "    Library('Library C', '789 High St')\n",
    "]\n",
    "\n",
    "# Add books to the libraries\n",
    "for library in Library.libraries:\n",
    "    library.add_book('Book 1', 'Author 1', 5)\n",
    "    library.add_book('Book 2', 'Author 2', 10)\n",
    "    library.add_book('Book 3', 'Author 3', 15)\n",
    "\n",
    "# Search for books by author\n",
    "found_books = Library.search_books_by_author('Author 1')\n",
    "for book in found_books:\n",
    "    print(f\"Title: {book['title']}, Author: {book['author']}, Copies: {book['num_copies']}\")\n",
    "\n",
    "# Get the total number of books in all libraries\n",
    "total_books = Library.get_total_books()\n",
    "print(f\"Total books in all libraries: {total_books}\")"
   ]
  },
  {
   "cell_type": "code",
   "execution_count": 48,
   "metadata": {},
   "outputs": [
    {
     "name": "stdout",
     "output_type": "stream",
     "text": [
      "Title: Book1, Author: Author1, Copies: 5\n",
      "Title: Book1, Author: Author1, Copies: 5\n",
      "Title: Book1, Author: Author1, Copies: 5\n",
      "Total books in all libraries: 90\n"
     ]
    }
   ],
   "source": [
    "class Library:\n",
    "    total_books = 0\n",
    "    def __init__(self, name, address):\n",
    "        self.name = name\n",
    "        self.address = address\n",
    "        self.books = []\n",
    "    def add_book(self, title, author, num_copies):\n",
    "        book = {'title': title, 'author': author, 'num_copies': num_copies}\n",
    "        self.books.append(book)\n",
    "        Library.total_books += num_copies\n",
    "    @staticmethod\n",
    "    def search_books_by_author(author):\n",
    "        found_books = []\n",
    "        for library in Library.libraries:\n",
    "            for book in library.books:\n",
    "                if book['author'] == author:\n",
    "                    found_books.append(book)\n",
    "        return found_books\n",
    "    @classmethod\n",
    "    def get_total_books(self):\n",
    "        return self.total_books\n",
    "\n",
    "Library.libraries = [\n",
    "    Library('pesu golden jubli block', 'pesu road'),\n",
    "    Library('pesu mca block', 'opp pesu uni'),\n",
    "    Library('peasu be block', 'opp pesu')\n",
    "]\n",
    "\n",
    "for library in Library.libraries:\n",
    "    library.add_book('Book1', 'Author1', 5)\n",
    "    library.add_book('Book2', 'Author2', 10)\n",
    "    library.add_book('Book3', 'Author3', 15)\n",
    "found_books = Library.search_books_by_author('Author1')\n",
    "for book in found_books:\n",
    "    print(f\"Title: {book['title']}, Author: {book['author']}, Copies: {book['num_copies']}\")\n",
    "total_books = Library.get_total_books()\n",
    "print(f\"Total books in all libraries: {total_books}\")"
   ]
  },
  {
   "cell_type": "code",
   "execution_count": 50,
   "metadata": {},
   "outputs": [
    {
     "ename": "TypeError",
     "evalue": "Company() takes no arguments",
     "output_type": "error",
     "traceback": [
      "\u001b[1;31m---------------------------------------------------------------------------\u001b[0m",
      "\u001b[1;31mTypeError\u001b[0m                                 Traceback (most recent call last)",
      "Cell \u001b[1;32mIn[50], line 19\u001b[0m\n\u001b[0;32m     14\u001b[0m     \u001b[38;5;129m@staticmethod\u001b[39m\n\u001b[0;32m     15\u001b[0m     \u001b[38;5;28;01mdef\u001b[39;00m \u001b[38;5;21mcalculate_bonus\u001b[39m(employee):\n\u001b[0;32m     16\u001b[0m         \u001b[38;5;28;01mreturn\u001b[39;00m employee\u001b[38;5;241m.\u001b[39msalary \u001b[38;5;241m*\u001b[39m (Company\u001b[38;5;241m.\u001b[39mannual_bonus_perc \u001b[38;5;241m/\u001b[39m \u001b[38;5;241m100\u001b[39m)\n\u001b[1;32m---> 19\u001b[0m employee1 \u001b[38;5;241m=\u001b[39m \u001b[43mCompany\u001b[49m\u001b[43m(\u001b[49m\u001b[38;5;124;43m\"\u001b[39;49m\u001b[38;5;124;43mMinesh\u001b[39;49m\u001b[38;5;124;43m\"\u001b[39;49m\u001b[43m,\u001b[49m\u001b[43m \u001b[49m\u001b[38;5;241;43m50000\u001b[39;49m\u001b[43m)\u001b[49m\n\u001b[0;32m     20\u001b[0m employee2 \u001b[38;5;241m=\u001b[39m Company(\u001b[38;5;124m\"\u001b[39m\u001b[38;5;124mVaridh\u001b[39m\u001b[38;5;124m\"\u001b[39m, \u001b[38;5;241m60000\u001b[39m)\n\u001b[0;32m     21\u001b[0m employee3 \u001b[38;5;241m=\u001b[39m Company(\u001b[38;5;124m\"\u001b[39m\u001b[38;5;124mTurbo\u001b[39m\u001b[38;5;124m\"\u001b[39m, \u001b[38;5;241m70000\u001b[39m)\n",
      "\u001b[1;31mTypeError\u001b[0m: Company() takes no arguments"
     ]
    }
   ],
   "source": [
    "class Company:\n",
    "    total_employees = 0\n",
    "    annual_bonus_perc = 0\n",
    "    def _init_(self, name, salary):\n",
    "        self.name = name\n",
    "        self.salary = salary\n",
    "        Company.total_employees += 1\n",
    "    @classmethod\n",
    "    def set_annual_bonus_perc(self, percentage):\n",
    "        self.annual_bonus_perc = percentage\n",
    "    @classmethod\n",
    "    def get_total_employees(self):\n",
    "        return self.total_employees\n",
    "    @staticmethod\n",
    "    def calculate_bonus(employee):\n",
    "        return employee.salary * (Company.annual_bonus_perc / 100)\n",
    "\n",
    "\n",
    "employee1 = Company(\"Varidh\", 50000)\n",
    "employee2 = Company(\"Varidh\", 60000)\n",
    "employee3 = Company(\"Turbo\", 70000)\n",
    "employee4 = Company(\"Vidit\",80000)\n",
    "Company.set_annual_bonus_perc(10)\n",
    "print(\"Total Number of Employees: \",Company.get_total_employees())\n",
    "\n",
    "print(\"Bonus of Employee 1: \", Company.calculate_bonus(employee1))\n",
    "print(\"Bonus of Employee 2: \", Company.calculate_bonus(employee2))\n",
    "print(\"Bonus of Employee 3: \", Company.calculate_bonus(employee3))\n",
    "print(\"Bonus of Employee 4: \", Company.calculate_bonus(employee4))"
   ]
  },
  {
   "cell_type": "code",
   "execution_count": null,
   "metadata": {},
   "outputs": [],
   "source": []
  }
 ],
 "metadata": {
  "kernelspec": {
   "display_name": "Python 3",
   "language": "python",
   "name": "python3"
  },
  "language_info": {
   "codemirror_mode": {
    "name": "ipython",
    "version": 3
   },
   "file_extension": ".py",
   "mimetype": "text/x-python",
   "name": "python",
   "nbconvert_exporter": "python",
   "pygments_lexer": "ipython3",
   "version": "3.12.0"
  }
 },
 "nbformat": 4,
 "nbformat_minor": 2
}
