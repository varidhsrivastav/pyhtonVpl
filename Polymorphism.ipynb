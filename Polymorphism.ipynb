{
 "cells": [
  {
   "cell_type": "code",
   "execution_count": 1,
   "metadata": {},
   "outputs": [
    {
     "ename": "TypeError",
     "evalue": "unsupported operand type(s) for +: 'set' and 'set'",
     "output_type": "error",
     "traceback": [
      "\u001b[1;31m---------------------------------------------------------------------------\u001b[0m",
      "\u001b[1;31mTypeError\u001b[0m                                 Traceback (most recent call last)",
      "Cell \u001b[1;32mIn[1], line 1\u001b[0m\n\u001b[1;32m----> 1\u001b[0m \u001b[43m{\u001b[49m\u001b[38;5;241;43m23\u001b[39;49m\u001b[43m,\u001b[49m\u001b[38;5;241;43m23\u001b[39;49m\u001b[43m,\u001b[49m\u001b[38;5;241;43m34\u001b[39;49m\u001b[43m,\u001b[49m\u001b[38;5;241;43m45\u001b[39;49m\u001b[43m,\u001b[49m\u001b[43m}\u001b[49m\u001b[43m \u001b[49m\u001b[38;5;241;43m+\u001b[39;49m\u001b[43m \u001b[49m\u001b[43m{\u001b[49m\u001b[38;5;241;43m23\u001b[39;49m\u001b[43m,\u001b[49m\u001b[38;5;241;43m34\u001b[39;49m\u001b[43m,\u001b[49m\u001b[38;5;241;43m45\u001b[39;49m\u001b[43m}\u001b[49m\n",
      "\u001b[1;31mTypeError\u001b[0m: unsupported operand type(s) for +: 'set' and 'set'"
     ]
    }
   ],
   "source": [
    "{23,23,34,45,} + {23,34,45}\n"
   ]
  },
  {
   "cell_type": "code",
   "execution_count": 4,
   "metadata": {},
   "outputs": [
    {
     "data": {
      "text/plain": [
       "'indiaindiaindia'"
      ]
     },
     "execution_count": 4,
     "metadata": {},
     "output_type": "execute_result"
    }
   ],
   "source": [
    "\"india\" *3"
   ]
  },
  {
   "cell_type": "code",
   "execution_count": 5,
   "metadata": {},
   "outputs": [
    {
     "data": {
      "text/plain": [
       "[10,\n",
       " 20,\n",
       " 30,\n",
       " 10,\n",
       " 20,\n",
       " 30,\n",
       " 10,\n",
       " 20,\n",
       " 30,\n",
       " 10,\n",
       " 20,\n",
       " 30,\n",
       " 10,\n",
       " 20,\n",
       " 30,\n",
       " 10,\n",
       " 20,\n",
       " 30,\n",
       " 10,\n",
       " 20,\n",
       " 30,\n",
       " 10,\n",
       " 20,\n",
       " 30,\n",
       " 10,\n",
       " 20,\n",
       " 30,\n",
       " 10,\n",
       " 20,\n",
       " 30,\n",
       " 10,\n",
       " 20,\n",
       " 30,\n",
       " 10,\n",
       " 20,\n",
       " 30,\n",
       " 10,\n",
       " 20,\n",
       " 30,\n",
       " 10,\n",
       " 20,\n",
       " 30,\n",
       " 10,\n",
       " 20,\n",
       " 30,\n",
       " 10,\n",
       " 20,\n",
       " 30,\n",
       " 10,\n",
       " 20,\n",
       " 30,\n",
       " 10,\n",
       " 20,\n",
       " 30,\n",
       " 10,\n",
       " 20,\n",
       " 30,\n",
       " 10,\n",
       " 20,\n",
       " 30,\n",
       " 10,\n",
       " 20,\n",
       " 30,\n",
       " 10,\n",
       " 20,\n",
       " 30,\n",
       " 10,\n",
       " 20,\n",
       " 30,\n",
       " 10,\n",
       " 20,\n",
       " 30,\n",
       " 10,\n",
       " 20,\n",
       " 30,\n",
       " 10,\n",
       " 20,\n",
       " 30,\n",
       " 10,\n",
       " 20,\n",
       " 30,\n",
       " 10,\n",
       " 20,\n",
       " 30,\n",
       " 10,\n",
       " 20,\n",
       " 30,\n",
       " 10,\n",
       " 20,\n",
       " 30]"
      ]
     },
     "execution_count": 5,
     "metadata": {},
     "output_type": "execute_result"
    }
   ],
   "source": [
    "[10,20,30]*30"
   ]
  },
  {
   "cell_type": "code",
   "execution_count": 10,
   "metadata": {},
   "outputs": [
    {
     "data": {
      "text/plain": [
       "1"
      ]
     },
     "execution_count": 10,
     "metadata": {},
     "output_type": "execute_result"
    }
   ],
   "source": [
    "#function polymorphism\n",
    "len({1:'q'})"
   ]
  },
  {
   "cell_type": "code",
   "execution_count": 12,
   "metadata": {},
   "outputs": [],
   "source": [
    "# user defined function\n",
    "def add(x,y):\n",
    "    return x+y"
   ]
  },
  {
   "cell_type": "code",
   "execution_count": 14,
   "metadata": {},
   "outputs": [
    {
     "name": "stdout",
     "output_type": "stream",
     "text": [
      "Usa \n",
      "singpore \n",
      "sydney \n",
      "bharat \n"
     ]
    }
   ],
   "source": [
    "# class polymorphism\n",
    "class Bharat:\n",
    "    def Capital(self):\n",
    "        print(\"bharat \")\n",
    "class USA:\n",
    "    def Capital(self):\n",
    "        print(\"Usa \")\n",
    "class Australia:\n",
    "    def Capital(self):\n",
    "        print(\"sydney \")\n",
    "class Singpore:\n",
    "    def Capital(self):\n",
    "        print(\"singpore \")\n",
    "b= Bharat()\n",
    "u= USA()\n",
    "a = Australia()\n",
    "s = Singpore()\n",
    "for x in  [u,s,a,b]:\n",
    "    x.Capital()"
   ]
  },
  {
   "cell_type": "code",
   "execution_count": 27,
   "metadata": {},
   "outputs": [
    {
     "name": "stdout",
     "output_type": "stream",
     "text": [
      "Generic Sound\n",
      "mew\n",
      "Woof\n",
      "roar\n"
     ]
    }
   ],
   "source": [
    "# Method Overrriding\n",
    "class Animal:\n",
    "    def makeSound(self):\n",
    "        print(\"Generic Sound\")\n",
    "class Dog(Animal):\n",
    "    def makeSound(self):\n",
    "        print(\"Woof\")\n",
    "class Cat(Animal):\n",
    "     def makeSound(self):\n",
    "        print(\"mew\")\n",
    "class Lion(Animal):\n",
    "     def makeSound(self):\n",
    "        print(\"roar\")\n",
    "v=Animal()\n",
    "c=Cat()\n",
    "S=Dog()\n",
    "L=Lion()\n",
    "for i in (v,c,S,L):\n",
    "    i.makeSound()"
   ]
  },
  {
   "cell_type": "code",
   "execution_count": 33,
   "metadata": {},
   "outputs": [
    {
     "name": "stdout",
     "output_type": "stream",
     "text": [
      "duck\n"
     ]
    }
   ],
   "source": [
    "class Duck:\n",
    "    def quack(self):\n",
    "        print(\"duck\")\n",
    "class goose:\n",
    "    def quack(self):\n",
    "        print(\"goose\")\n",
    "class Cat:\n",
    "    def cat(self):\n",
    "        print(\"mew\")\n",
    "def duck_check(animal):\n",
    "    animal.quack()\n",
    "duck_check(Duck())"
   ]
  },
  {
   "cell_type": "code",
   "execution_count": 46,
   "metadata": {},
   "outputs": [
    {
     "name": "stdout",
     "output_type": "stream",
     "text": [
      "[<__main__.book object at 0x000002E19F627830>, <__main__.book object at 0x000002E19F78F020>, <__main__.book object at 0x000002E19F78EA80>]\n"
     ]
    }
   ],
   "source": [
    "class Person:\n",
    "    def __init__(self, name,age):\n",
    "        self.name = name\n",
    "        self.age = age\n",
    "        self.sort=age\n",
    "    def __str___(self):\n",
    "       return f\"name is {self.name} and the age {str(self.age)}\"\n",
    "class car:\n",
    "    def __init__(self, brand, model, year):\n",
    "        self.brand=brand\n",
    "        self.model=model\n",
    "        self.year=year\n",
    "        self.sort=year\n",
    "    def __str___(self):\n",
    "        return f\"name is {self.brand} and the age {str(self.year)}\"\n",
    "    def display(self):\n",
    "        print(f\"barand is {self.brand} \")\n",
    "class book:\n",
    "    def __init__(self, title, author, price):\n",
    "        self.title=title\n",
    "        self.author=author\n",
    "        self.price=price\n",
    "        self.sort=title\n",
    "    def __str___(self):\n",
    "        return f\"name is {self.title} and the age {str(self.price)}\"\n",
    "people = [Person(\"ALICE\", 30),Person(\"VARID\", 31),Person(\"MINESH\", 32)]\n",
    "books=[book('ikigai','authoe2 ',2323),book('anci x','letc ',435677),book('nkjvkjv','tgrgg ',43567)]\n",
    "cars=[car('audi', 'a8', 2019),car('bmw', 'x5', 202),car('tyota', 'cardilac', 2024)]\n",
    "def custom_sort(objects):\n",
    "    sorted_objects = sorted(objects, key=lambda o:o.sort)\n",
    "    return sorted_objects\n",
    "sorted_book = custom_sort(books)\n",
    "print(sorted_book)\n",
    "# for |\n"
   ]
  },
  {
   "cell_type": "code",
   "execution_count": 40,
   "metadata": {},
   "outputs": [],
   "source": []
  },
  {
   "cell_type": "code",
   "execution_count": 45,
   "metadata": {},
   "outputs": [
    {
     "name": "stdout",
     "output_type": "stream",
     "text": [
      "[<__main__.book object at 0x000002E19F792E10>, <__main__.book object at 0x000002E19F7916D0>, <__main__.book object at 0x000002E19F792270>]\n"
     ]
    }
   ],
   "source": []
  },
  {
   "cell_type": "code",
   "execution_count": 11,
   "metadata": {},
   "outputs": [
    {
     "name": "stdout",
     "output_type": "stream",
     "text": [
      "area of the cirle is 28.274309999999996\n"
     ]
    }
   ],
   "source": [
    "\n",
    "class Shape:\n",
    "    def __init__(self, sides, measurements):\n",
    "        self.sides = sides\n",
    "        self.measurements = measurements\n",
    "    def calculate_area(self):\n",
    "        pass\n",
    "\n",
    "class Circle(Shape):\n",
    "    def __init__(self, radius):\n",
    "        super().__init__(1,[radius])\n",
    "\n",
    "    def calculate_area(self):\n",
    "        return f\"area of the cirle is {3.14159 * self.measurements[0] * self.measurements[0]}\"\n",
    "\n",
    "class Square(Shape):\n",
    "    def __init__(self, side):\n",
    "        super().__init__(4, [side] * 4)\n",
    "\n",
    "    def calculate_area(self):\n",
    "        return f\"area of  square{self.measurements[0] * self.measurements[0]}\"\n",
    "\n",
    "class Rectangle(Shape):\n",
    "    def __init__(self, length, width):\n",
    "        super().__init__(4, [length, width] * 2)\n",
    "\n",
    "    def calculate_area(self):\n",
    "        return f\"Area of the rectangle is {self.measurements[0] * self.measurements[1]}\"\n",
    "\n",
    "class Rhombus(Shape):\n",
    "    def __init__(self, side):\n",
    "        super().__init__(4, [side] * 4)\n",
    "\n",
    "    def calculate_area(self):\n",
    "        return f\"Area of the rohmbus is {0.5 * self.measurements[0] * self.measurements[1]}\"\n",
    "\n",
    "class Parallelogram(Shape):\n",
    "    def __init__(self, base, height):\n",
    "        super().__init__(4, [base, height] * 2)\n",
    "\n",
    "    def calculate_area(self):\n",
    "        return f\"Area of the para id {self.measurements[0] * self.measurements[1]}\"\n",
    "\n",
    "def menu():\n",
    "    choice = int(input(\". Enter the Number of sides\"))\n",
    "    if choice == 4:\n",
    "        print(Square(float(input(\"Enter the side: \"))).calculate_area())\n",
    "        print(Rectangle(float(input(\"Enter the length: \")), float(input(\"Enter the width: \"))).calculate_area())\n",
    "        print(Parallelogram(float(input(\"Enter the base: \")), float(input(\"Enter the height: \"))).calculate_area())\n",
    "        print( Rhombus(float(input(\"Enter the side: \"))).calculate_area())\n",
    "    elif choice == 0:\n",
    "        print(Circle(float(input(\"Enter the radius: \"))).calculate_area())\n",
    "    else:\n",
    "        print(\"Invalid choice. Please enter a valid choice.\")\n",
    "        return\n",
    "\n",
    "menu()"
   ]
  },
  {
   "cell_type": "code",
   "execution_count": null,
   "metadata": {},
   "outputs": [],
   "source": []
  }
 ],
 "metadata": {
  "kernelspec": {
   "display_name": "Python 3",
   "language": "python",
   "name": "python3"
  },
  "language_info": {
   "codemirror_mode": {
    "name": "ipython",
    "version": 3
   },
   "file_extension": ".py",
   "mimetype": "text/x-python",
   "name": "python",
   "nbconvert_exporter": "python",
   "pygments_lexer": "ipython3",
   "version": "3.12.0"
  }
 },
 "nbformat": 4,
 "nbformat_minor": 2
}
