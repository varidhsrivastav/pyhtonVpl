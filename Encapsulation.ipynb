{
 "cells": [
  {
   "cell_type": "code",
   "execution_count": 4,
   "metadata": {},
   "outputs": [
    {
     "name": "stdout",
     "output_type": "stream",
     "text": [
      "Name :  albus \n",
      "Rank :  1 \n",
      "Semester :  6\n",
      "Name :  dumbledore \n",
      "Rank :  3 \n",
      "Semester :  5\n"
     ]
    }
   ],
   "source": [
    "class student:\n",
    "    def __init__(self,name, rank,sem):\n",
    "        self.name = name\n",
    "        self.rank = rank\n",
    "        self.sem = sem\n",
    "    def display(self):\n",
    "        print(\"Name : \",self.name,\"\\nRank : \",self.rank,\"\\nSemester : \",self.sem)\n",
    "    s1=student('albus',1,6 )\n",
    "    s2=student('dumbledore',3,5)\n",
    "    for i in [s1,s2]:\n",
    "        i.display()"
   ]
  },
  {
   "cell_type": "code",
   "execution_count": 10,
   "metadata": {},
   "outputs": [
    {
     "name": "stdout",
     "output_type": "stream",
     "text": [
      "Name :  varih\n",
      "Project :  project rescue\n",
      "Salary :  123232\n",
      "Name :  varih\n",
      "Project :  project rescue\n",
      "Salary :  123232\n",
      "New Salary :  567890\n",
      "Name :  varih\n",
      "Project :  project rescue\n",
      "Salary :  567890\n"
     ]
    }
   ],
   "source": [
    "# Aceese Specifier \n",
    "class Employee:\n",
    "    def __init__(self, name, project, salary):\n",
    "        self.name = name\n",
    "        self.project = project\n",
    "        self.salary = salary\n",
    "    def display(self):\n",
    "        print(\"Name : \", self.name)\n",
    "        print(\"Project : \", self.project)\n",
    "        print(\"Salary : \", self.salary)\n",
    "e=Employee('varih','project rescue', 123232)\n",
    "# access using the method\n",
    "e.display()\n",
    "# outside the class\n",
    "print(\"Name : \", e.name)\n",
    "print(\"Project : \", e.project)\n",
    "print(\"Salary : \", e.salary)\n",
    "# modification outside the class\n",
    "e.salary=\"567890\"\n",
    "print(\"New Salary : \", e.salary)\n",
    "e.display()\n",
    "\n"
   ]
  },
  {
   "cell_type": "code",
   "execution_count": 15,
   "metadata": {},
   "outputs": [
    {
     "name": "stdout",
     "output_type": "stream",
     "text": [
      "Name :  varih\n",
      "Project :  project rescue\n",
      "Salary :  123232\n",
      "Name :  varih\n",
      "Project :  project rescue\n",
      "Salary :  123232\n",
      "Name :  varih\n",
      "Project :  Inky Ponky\n",
      "Salary :  123232\n"
     ]
    }
   ],
   "source": [
    "# protected acess specifier\n",
    "class Employeep:\n",
    "    def __init__(self, name, project, salary):\n",
    "        self.name = name\n",
    "        self._project = project\n",
    "        self.salary = salary\n",
    "    def display(self):\n",
    "        print(\"Name : \", self.name)\n",
    "        print(\"Project : \", self._project)\n",
    "        print(\"Salary : \", self.salary)\n",
    "e1=Employeep('varih','project rescue', 123232)\n",
    "# access thorugh public method\n",
    "e1.display()\n",
    "# access outside the class\n",
    "print(\"Name : \", e1.name)\n",
    "print(\"Project : \", e1._project)\n",
    "print(\"Salary : \", e1.salary)\n",
    "# ,odify the protected memeber outside the class\n",
    "e1._project = \"Inky Ponky\"\n",
    "e1.display()"
   ]
  },
  {
   "cell_type": "code",
   "execution_count": 33,
   "metadata": {},
   "outputs": [
    {
     "name": "stdout",
     "output_type": "stream",
     "text": [
      "Name :  varih\n",
      "Project :  project rescue\n",
      "Salary :  123232\n",
      "Name is varih and Project is project rescueand salary is 123232\n",
      "Name is varih and Project is project rescueand salary is 123232\n",
      "Salary :  500\n"
     ]
    },
    {
     "data": {
      "text/plain": [
       "700"
      ]
     },
     "execution_count": 33,
     "metadata": {},
     "output_type": "execute_result"
    }
   ],
   "source": [
    "# privete access specifier \n",
    "class Employeepr:\n",
    "    def __init__(self, name, project, salary):\n",
    "        self.name = name\n",
    "        self._project = project\n",
    "        self.__salary = salary\n",
    "    def display(self):\n",
    "        print(\"Name : \", self.name)\n",
    "        print(\"Project : \", self._project)\n",
    "        print(\"Salary : \", self.__salary)\n",
    "    def updateSlary(self,salary):\n",
    "        self.__salary=salary\n",
    "        print(\"Salary : \", self.__salary)\n",
    "    def increment(self, inc):\n",
    "        self.__salary += inc\n",
    "        return self.__salary\n",
    "e2=Employeepr('varih','project rescue', 123232)\n",
    "# access thorugh pubic method\n",
    "e2.display()\n",
    "# access outside the class \n",
    "# print(f\"Name is {e2.name} and Project is {e2._project}and salary is {e2.__salary}\")\n",
    "# access through name mangling\n",
    "print(f\"Name is {e2.name} and Project is {e2._project}and salary is {e2._Employeepr__salary}\")\n",
    "# ,odify the protected memeber outside the class\n",
    "e2.__project = \"Inky Ponky\"\n",
    "print(f\"Name is {e2.name} and Project is {e2._project}and salary is {e2._Employeepr__salary}\")\n",
    "e2.updateSlary(500)\n",
    "e2.increment(200)\n",
    "\n"
   ]
  },
  {
   "cell_type": "code",
   "execution_count": 43,
   "metadata": {},
   "outputs": [
    {
     "name": "stdout",
     "output_type": "stream",
     "text": [
      "Value of _a is : 20\n",
      "Value of _a is : 30\n",
      "Value of _a is : 100\n"
     ]
    }
   ],
   "source": [
    "# Access specifier and Inheritance \n",
    "class A:\n",
    "    def __init__(self,a):\n",
    "        self._a = a\n",
    "class B(A):\n",
    "    def __init__(self, a):\n",
    "        super().__init__(a)\n",
    "    def display(self):\n",
    "        print(\"Value of _a is :\",self._a)\n",
    "    def update(self, val):\n",
    "        self._a = val\n",
    "d=B(20)\n",
    "d.display()\n",
    "d.update(30)\n",
    "d.display()\n",
    "# outside\n",
    "d._a=100\n",
    "d.display()\n"
   ]
  },
  {
   "cell_type": "code",
   "execution_count": 49,
   "metadata": {},
   "outputs": [
    {
     "name": "stdout",
     "output_type": "stream",
     "text": [
      "Value of x is 40\n"
     ]
    }
   ],
   "source": [
    "# prvate acess specifier and inheritanece\n",
    "class A:\n",
    "    def __init__(self, x):\n",
    "        self.__x = x\n",
    "    def display(self):\n",
    "        print(\"Value of x is {}\".format(self.__x))\n",
    "class B(A):\n",
    "    def __init__(self,x):\n",
    "        super().__init__(x)\n",
    "    def display(self):\n",
    "        print(\"Value of x is : \",self.__x)\n",
    "f=A(40)\n",
    "# g=B(50)\n",
    "f.display()"
   ]
  },
  {
   "cell_type": "code",
   "execution_count": 2,
   "metadata": {},
   "outputs": [
    {
     "name": "stdout",
     "output_type": "stream",
     "text": [
      "1. Enter the Number of sides\n",
      "The area of the shape is:  264.5\n"
     ]
    }
   ],
   "source": [
    "\n",
    "\n",
    "class Shape:\n",
    "    def __init__(self, sides, measurements):\n",
    "        self.sides = sides\n",
    "        self.measurements = measurements\n",
    "\n",
    "    def calculate_area(self):\n",
    "        pass\n",
    "\n",
    "class Circle(Shape):\n",
    "    def __init__(self, radius):\n",
    "        super().__init__(1, [radius])\n",
    "\n",
    "    def calculate_area(self):\n",
    "        return 3.14159 * self.measurements[0] * self.measurements[0]\n",
    "\n",
    "class Square(Shape):\n",
    "    def __init__(self, side):\n",
    "        super().__init__(4, [side] * 4)\n",
    "\n",
    "    def calculate_area(self):\n",
    "        return self.measurements[0] * self.measurements[0]\n",
    "\n",
    "class Rectangle(Shape):\n",
    "    def __init__(self, length, width):\n",
    "        super().__init__(4, [length, width] * 2)\n",
    "\n",
    "    def calculate_area(self):\n",
    "        return self.measurements[0] * self.measurements[1]\n",
    "\n",
    "class Rhombus(Shape):\n",
    "    def __init__(self, side):\n",
    "        super().__init__(4, [side] * 4)\n",
    "\n",
    "    def calculate_area(self):\n",
    "        return 0.5 * self.measurements[0] * self.measurements[1]\n",
    "\n",
    "class Parallelogram(Shape):\n",
    "    def __init__(self, base, height):\n",
    "        super().__init__(4, [base, height] * 2)\n",
    "\n",
    "    def calculate_area(self):\n",
    "        return self.measurements[0] * self.measurements[1]\n",
    "\n",
    "def menu():\n",
    "    print(\"1. Enter the Number of sides\")\n",
    "    choice = int(input(\"Enter your choice: \"))\n",
    "    if choice == 4:\n",
    "        shape = Square(float(input(\"Enter the side: \")))\n",
    "        shape = Rectangle(float(input(\"Enter the length: \")), float(input(\"Enter the width: \")))\n",
    "        shape = Parallelogram(float(input(\"Enter the base: \")), float(input(\"Enter the height: \")))\n",
    "        shape = Rhombus(float(input(\"Enter the side: \")))\n",
    "    elif choice == 0:\n",
    "        shape = Circle(float(input(\"Enter the radius: \")))\n",
    "    else:\n",
    "        print(\"Invalid choice. Please enter a valid choice.\")\n",
    "        return\n",
    "        \n",
    "    print(\"The area of the shape is: \", shape.calculate_area())\n",
    "\n",
    "menu()"
   ]
  },
  {
   "cell_type": "code",
   "execution_count": null,
   "metadata": {},
   "outputs": [],
   "source": []
  }
 ],
 "metadata": {
  "kernelspec": {
   "display_name": "Python 3",
   "language": "python",
   "name": "python3"
  },
  "language_info": {
   "codemirror_mode": {
    "name": "ipython",
    "version": 3
   },
   "file_extension": ".py",
   "mimetype": "text/x-python",
   "name": "python",
   "nbconvert_exporter": "python",
   "pygments_lexer": "ipython3",
   "version": "3.12.0"
  }
 },
 "nbformat": 4,
 "nbformat_minor": 2
}
