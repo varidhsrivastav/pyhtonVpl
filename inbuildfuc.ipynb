{
 "cells": [
  {
   "cell_type": "code",
   "execution_count": 3,
   "metadata": {},
   "outputs": [
    {
     "data": {
      "text/plain": [
       "10"
      ]
     },
     "execution_count": 3,
     "metadata": {},
     "output_type": "execute_result"
    }
   ],
   "source": [
    "minimum=lambda x,y:x if x<y else y\n",
    "minimum(10, 20)"
   ]
  },
  {
   "cell_type": "code",
   "execution_count": 13,
   "metadata": {},
   "outputs": [
    {
     "data": {
      "text/plain": [
       "10"
      ]
     },
     "execution_count": 13,
     "metadata": {},
     "output_type": "execute_result"
    }
   ],
   "source": [
    "from functools import reduce \n",
    "l=[10,20,30,40]\n",
    "red=reduce(lambda x, y:x if x<y else y, l)\n",
    "red"
   ]
  },
  {
   "cell_type": "code",
   "execution_count": 17,
   "metadata": {},
   "outputs": [
    {
     "data": {
      "text/plain": [
       "zip"
      ]
     },
     "execution_count": 17,
     "metadata": {},
     "output_type": "execute_result"
    }
   ],
   "source": [
    "l=[2,3,4]\n",
    "l1=['a','b','c']\n",
    "t=zip(l,l1)\n",
    "type(t)"
   ]
  },
  {
   "cell_type": "code",
   "execution_count": 18,
   "metadata": {},
   "outputs": [
    {
     "data": {
      "text/plain": [
       "30"
      ]
     },
     "execution_count": 18,
     "metadata": {},
     "output_type": "execute_result"
    }
   ],
   "source": [
    "max(10,30)"
   ]
  },
  {
   "cell_type": "code",
   "execution_count": 19,
   "metadata": {},
   "outputs": [
    {
     "data": {
      "text/plain": [
       "20"
      ]
     },
     "execution_count": 19,
     "metadata": {},
     "output_type": "execute_result"
    }
   ],
   "source": [
    "min(20,30)"
   ]
  },
  {
   "cell_type": "code",
   "execution_count": 22,
   "metadata": {},
   "outputs": [
    {
     "data": {
      "text/plain": [
       "{10, 20}"
      ]
     },
     "execution_count": 22,
     "metadata": {},
     "output_type": "execute_result"
    }
   ],
   "source": [
    "max({10,20},{20,30})"
   ]
  },
  {
   "cell_type": "code",
   "execution_count": 2,
   "metadata": {},
   "outputs": [],
   "source": [
    "import operator as o"
   ]
  },
  {
   "cell_type": "code",
   "execution_count": 46,
   "metadata": {},
   "outputs": [
    {
     "data": {
      "text/plain": [
       "True"
      ]
     },
     "execution_count": 46,
     "metadata": {},
     "output_type": "execute_result"
    }
   ],
   "source": [
    "o.add(o.add(50,50),50)\n",
    "o.sub(20,20)\n",
    "o.mul(2,23)\n",
    "o.truediv(4,2)\n",
    "o.pow(4,4)\n",
    "o.lt(23,24)\n",
    "o.gt(34,22)\n",
    "o.eq(11,11)\n",
    "o.le(11,11)\n",
    "o.ge(11,11)\n",
    "o.or_(34,4)\n",
    "o.xor(1,1)\n",
    "o.and_(1,1)\n",
    "o.lshift(1,1)\n",
    "o.rshift(1,1)\n",
    "o.not_(0)\n",
    "o.is_(12,12)\n",
    "o.concat((10,),(20,))\n",
    "o.contains('dssferfe','d')\n",
    "o.is_not(10,11)\n"
   ]
  },
  {
   "cell_type": "code",
   "execution_count": 51,
   "metadata": {},
   "outputs": [
    {
     "data": {
      "text/plain": [
       "'0b11'"
      ]
     },
     "execution_count": 51,
     "metadata": {},
     "output_type": "execute_result"
    }
   ],
   "source": [
    "bin(25)\n",
    "# bin(200)\n",
    "# bin(3)"
   ]
  },
  {
   "cell_type": "code",
   "execution_count": 53,
   "metadata": {},
   "outputs": [
    {
     "data": {
      "text/plain": [
       "[1, 8, 27, 64, 125, 216, 343, 512, 729, 1000]"
      ]
     },
     "execution_count": 53,
     "metadata": {},
     "output_type": "execute_result"
    }
   ],
   "source": [
    "l=[x**3 for x in range(1,11)]\n",
    "l"
   ]
  },
  {
   "cell_type": "code",
   "execution_count": 58,
   "metadata": {},
   "outputs": [
    {
     "name": "stdout",
     "output_type": "stream",
     "text": [
      "[2, 4, 4, 4, 4, 4, 34, 4, 6, 654, 54, 556]\n",
      "[1, 3, 3, 3, 3, 45, 45, 5, 5, 65, 5, 65, 43223, 123]\n"
     ]
    }
   ],
   "source": [
    "l=[1,2,3,4,3,4,3,4,3,4,4,34,45,45,4,5,5,65,6,5,65,654,43223,123,54,556]\n",
    "elist=[ x for x in l if x%2==0 ]\n",
    "olist=[ x for x in l if x%2!=0 ]\n",
    "print(elist)\n",
    "print(olist)\n"
   ]
  },
  {
   "cell_type": "code",
   "execution_count": 59,
   "metadata": {},
   "outputs": [],
   "source": [
    "sentence =\"the chandrayan mission was successfull\""
   ]
  },
  {
   "cell_type": "code",
   "execution_count": 65,
   "metadata": {},
   "outputs": [
    {
     "name": "stdout",
     "output_type": "stream",
     "text": [
      "['e', 'a', 'a', 'a', 'i', 'i', 'o', 'a', 'u', 'e', 'u'] ['t', 'h', 'c', 'h', 'n', 'd', 'r', 'y', 'n', 'm', 's', 's', 'n', 'w', 's', 's', 'c', 'c', 's', 's', 'f', 'l', 'l']\n"
     ]
    }
   ],
   "source": [
    "# crete a list called vovwels and a list called cons\n",
    "vowels=[x for x in sentence if x in 'aeiouAEIOU']\n",
    "const=[x for x in sentence if x not in 'aeiouA EIOU']\n",
    "print(vowels, const)\n"
   ]
  },
  {
   "cell_type": "code",
   "execution_count": 1,
   "metadata": {},
   "outputs": [
    {
     "name": "stdout",
     "output_type": "stream",
     "text": [
      "olleh\n"
     ]
    }
   ],
   "source": [
    "def reverse_string(s):\n",
    "    if len(s) == 0:\n",
    "        return s\n",
    "    else:\n",
    "        return reverse_string(s[1:]) + s[0]\n",
    "    \n",
    "print(reverse_string(\"hello\")) # Output: olleh\n",
    "\n"
   ]
  },
  {
   "cell_type": "code",
   "execution_count": 8,
   "metadata": {},
   "outputs": [
    {
     "name": "stdout",
     "output_type": "stream",
     "text": [
      "olleh\n"
     ]
    }
   ],
   "source": [
    "# how to reverse a string with recursion ?"
   ]
  },
  {
   "cell_type": "code",
   "execution_count": 19,
   "metadata": {},
   "outputs": [
    {
     "data": {
      "text/plain": [
       "'eloo'"
      ]
     },
     "execution_count": 19,
     "metadata": {},
     "output_type": "execute_result"
    }
   ],
   "source": [
    "s=input(\"e\")\n",
    "d=s[1:]+s[3]\n",
    "d"
   ]
  },
  {
   "cell_type": "code",
   "execution_count": 25,
   "metadata": {},
   "outputs": [
    {
     "ename": "RecursionError",
     "evalue": "maximum recursion depth exceeded",
     "output_type": "error",
     "traceback": [
      "\u001b[1;31m---------------------------------------------------------------------------\u001b[0m",
      "\u001b[1;31mRecursionError\u001b[0m                            Traceback (most recent call last)",
      "\u001b[1;32me:\\mca\\sem1\\python\\inbuildfuc.ipynb Cell 17\u001b[0m line \u001b[0;36m5\n\u001b[0;32m      <a href='vscode-notebook-cell:/e%3A/mca/sem1/python/inbuildfuc.ipynb#X22sZmlsZQ%3D%3D?line=1'>2</a>\u001b[0m \u001b[39mdef\u001b[39;00m \u001b[39mreverse_string\u001b[39m(s):\n\u001b[0;32m      <a href='vscode-notebook-cell:/e%3A/mca/sem1/python/inbuildfuc.ipynb#X22sZmlsZQ%3D%3D?line=3'>4</a>\u001b[0m     \u001b[39mreturn\u001b[39;00m reverse_string(s[\u001b[39m1\u001b[39m:]) \u001b[39m+\u001b[39m s[\u001b[39m0\u001b[39m]\n\u001b[1;32m----> <a href='vscode-notebook-cell:/e%3A/mca/sem1/python/inbuildfuc.ipynb#X22sZmlsZQ%3D%3D?line=4'>5</a>\u001b[0m \u001b[39mprint\u001b[39m(reverse_string(d))\n",
      "\u001b[1;32me:\\mca\\sem1\\python\\inbuildfuc.ipynb Cell 17\u001b[0m line \u001b[0;36m4\n\u001b[0;32m      <a href='vscode-notebook-cell:/e%3A/mca/sem1/python/inbuildfuc.ipynb#X22sZmlsZQ%3D%3D?line=1'>2</a>\u001b[0m \u001b[39mdef\u001b[39;00m \u001b[39mreverse_string\u001b[39m(s):\n\u001b[1;32m----> <a href='vscode-notebook-cell:/e%3A/mca/sem1/python/inbuildfuc.ipynb#X22sZmlsZQ%3D%3D?line=3'>4</a>\u001b[0m     \u001b[39mreturn\u001b[39;00m reverse_string(s[\u001b[39m1\u001b[39;49m:]) \u001b[39m+\u001b[39m s[\u001b[39m0\u001b[39m]\n",
      "\u001b[1;32me:\\mca\\sem1\\python\\inbuildfuc.ipynb Cell 17\u001b[0m line \u001b[0;36m4\n\u001b[0;32m      <a href='vscode-notebook-cell:/e%3A/mca/sem1/python/inbuildfuc.ipynb#X22sZmlsZQ%3D%3D?line=1'>2</a>\u001b[0m \u001b[39mdef\u001b[39;00m \u001b[39mreverse_string\u001b[39m(s):\n\u001b[1;32m----> <a href='vscode-notebook-cell:/e%3A/mca/sem1/python/inbuildfuc.ipynb#X22sZmlsZQ%3D%3D?line=3'>4</a>\u001b[0m     \u001b[39mreturn\u001b[39;00m reverse_string(s[\u001b[39m1\u001b[39;49m:]) \u001b[39m+\u001b[39m s[\u001b[39m0\u001b[39m]\n",
      "    \u001b[1;31m[... skipping similar frames: reverse_string at line 4 (2975 times)]\u001b[0m\n",
      "\u001b[1;32me:\\mca\\sem1\\python\\inbuildfuc.ipynb Cell 17\u001b[0m line \u001b[0;36m4\n\u001b[0;32m      <a href='vscode-notebook-cell:/e%3A/mca/sem1/python/inbuildfuc.ipynb#X22sZmlsZQ%3D%3D?line=1'>2</a>\u001b[0m \u001b[39mdef\u001b[39;00m \u001b[39mreverse_string\u001b[39m(s):\n\u001b[1;32m----> <a href='vscode-notebook-cell:/e%3A/mca/sem1/python/inbuildfuc.ipynb#X22sZmlsZQ%3D%3D?line=3'>4</a>\u001b[0m     \u001b[39mreturn\u001b[39;00m reverse_string(s[\u001b[39m1\u001b[39;49m:]) \u001b[39m+\u001b[39m s[\u001b[39m0\u001b[39m]\n",
      "\u001b[1;31mRecursionError\u001b[0m: maximum recursion depth exceeded"
     ]
    }
   ],
   "source": [
    "d=input(\"e\")\n",
    "def reverse_string(s):\n",
    "    if len(s)<=1:\n",
    "        return s\n",
    "    return reverse_string(s[1:]) + s[0]\n",
    "print(reverse_string(d))"
   ]
  },
  {
   "cell_type": "code",
   "execution_count": 26,
   "metadata": {},
   "outputs": [
    {
     "name": "stdout",
     "output_type": "stream",
     "text": [
      "urbi\n"
     ]
    }
   ],
   "source": [
    "s=\"turbi\"\n",
    "print(s[1:])"
   ]
  },
  {
   "cell_type": "code",
   "execution_count": 44,
   "metadata": {},
   "outputs": [
    {
     "name": "stdout",
     "output_type": "stream",
     "text": [
      "10\n",
      "sum =  2\n",
      "11\n",
      "sum =  2\n",
      "12\n",
      "sum =  5\n",
      "13\n",
      "sum =  28\n",
      "14\n",
      "sum =  257\n",
      "15\n",
      "sum =  3126\n",
      "16\n",
      "sum =  46657\n",
      "17\n",
      "sum =  823544\n",
      "18\n",
      "sum =  16777217\n",
      "19\n",
      "sum =  387420490\n",
      "20\n",
      "sum =  5\n",
      "21\n",
      "sum =  5\n",
      "22\n",
      "sum =  8\n",
      "23\n",
      "sum =  31\n",
      "24\n",
      "sum =  260\n",
      "25\n",
      "sum =  3129\n",
      "26\n",
      "sum =  46660\n",
      "27\n",
      "sum =  823547\n",
      "28\n",
      "sum =  16777220\n",
      "29\n",
      "sum =  387420493\n",
      "30\n",
      "sum =  28\n",
      "31\n",
      "sum =  28\n",
      "32\n",
      "sum =  31\n",
      "33\n",
      "sum =  54\n",
      "34\n",
      "sum =  283\n",
      "35\n",
      "sum =  3152\n",
      "36\n",
      "sum =  46683\n",
      "37\n",
      "sum =  823570\n",
      "38\n",
      "sum =  16777243\n",
      "39\n",
      "sum =  387420516\n",
      "40\n",
      "sum =  257\n",
      "41\n",
      "sum =  257\n",
      "42\n",
      "sum =  260\n",
      "43\n",
      "sum =  283\n",
      "44\n",
      "sum =  512\n",
      "45\n",
      "sum =  3381\n",
      "46\n",
      "sum =  46912\n",
      "47\n",
      "sum =  823799\n",
      "48\n",
      "sum =  16777472\n",
      "49\n",
      "sum =  387420745\n",
      "50\n",
      "sum =  3126\n",
      "51\n",
      "sum =  3126\n",
      "52\n",
      "sum =  3129\n",
      "53\n",
      "sum =  3152\n",
      "54\n",
      "sum =  3381\n",
      "55\n",
      "sum =  6250\n",
      "56\n",
      "sum =  49781\n",
      "57\n",
      "sum =  826668\n",
      "58\n",
      "sum =  16780341\n",
      "59\n",
      "sum =  387423614\n",
      "60\n",
      "sum =  46657\n",
      "61\n",
      "sum =  46657\n",
      "62\n",
      "sum =  46660\n",
      "63\n",
      "sum =  46683\n",
      "64\n",
      "sum =  46912\n",
      "65\n",
      "sum =  49781\n",
      "66\n",
      "sum =  93312\n",
      "67\n",
      "sum =  870199\n",
      "68\n",
      "sum =  16823872\n",
      "69\n",
      "sum =  387467145\n",
      "70\n",
      "sum =  823544\n",
      "71\n",
      "sum =  823544\n",
      "72\n",
      "sum =  823547\n",
      "73\n",
      "sum =  823570\n",
      "74\n",
      "sum =  823799\n",
      "75\n",
      "sum =  826668\n",
      "76\n",
      "sum =  870199\n",
      "77\n",
      "sum =  1647086\n",
      "78\n",
      "sum =  17600759\n",
      "79\n",
      "sum =  388244032\n",
      "80\n",
      "sum =  16777217\n",
      "81\n",
      "sum =  16777217\n",
      "82\n",
      "sum =  16777220\n",
      "83\n",
      "sum =  16777243\n",
      "84\n",
      "sum =  16777472\n",
      "85\n",
      "sum =  16780341\n",
      "86\n",
      "sum =  16823872\n",
      "87\n",
      "sum =  17600759\n",
      "88\n",
      "sum =  33554432\n",
      "89\n",
      "sum =  404197705\n",
      "90\n",
      "sum =  387420490\n",
      "91\n",
      "sum =  387420490\n",
      "92\n",
      "sum =  387420493\n",
      "93\n",
      "sum =  387420516\n",
      "94\n",
      "sum =  387420745\n",
      "95\n",
      "sum =  387423614\n",
      "96\n",
      "sum =  387467145\n",
      "97\n",
      "sum =  388244032\n",
      "98\n",
      "sum =  404197705\n",
      "99\n",
      "sum =  774840978\n",
      "100\n",
      "sum =  3\n",
      "101\n",
      "sum =  3\n",
      "102\n",
      "sum =  6\n",
      "103\n",
      "sum =  29\n",
      "104\n",
      "sum =  258\n",
      "105\n",
      "sum =  3127\n",
      "106\n",
      "sum =  46658\n",
      "107\n",
      "sum =  823545\n",
      "108\n",
      "sum =  16777218\n",
      "109\n",
      "sum =  387420491\n",
      "110\n",
      "sum =  3\n",
      "111\n",
      "sum =  3\n",
      "112\n",
      "sum =  6\n",
      "113\n",
      "sum =  29\n",
      "114\n",
      "sum =  258\n",
      "115\n",
      "sum =  3127\n",
      "116\n",
      "sum =  46658\n",
      "117\n",
      "sum =  823545\n",
      "118\n",
      "sum =  16777218\n",
      "119\n",
      "sum =  387420491\n",
      "120\n",
      "sum =  6\n",
      "121\n",
      "sum =  6\n",
      "122\n",
      "sum =  9\n",
      "123\n",
      "sum =  32\n",
      "124\n",
      "sum =  261\n",
      "125\n",
      "sum =  3130\n",
      "126\n",
      "sum =  46661\n",
      "127\n",
      "sum =  823548\n",
      "128\n",
      "sum =  16777221\n",
      "129\n",
      "sum =  387420494\n",
      "130\n",
      "sum =  29\n",
      "131\n",
      "sum =  29\n",
      "132\n",
      "sum =  32\n",
      "133\n",
      "sum =  55\n",
      "134\n",
      "sum =  284\n",
      "135\n",
      "sum =  3153\n",
      "136\n",
      "sum =  46684\n",
      "137\n",
      "sum =  823571\n",
      "138\n",
      "sum =  16777244\n",
      "139\n",
      "sum =  387420517\n",
      "140\n",
      "sum =  258\n",
      "141\n",
      "sum =  258\n",
      "142\n",
      "sum =  261\n",
      "143\n",
      "sum =  284\n",
      "144\n",
      "sum =  513\n",
      "145\n",
      "sum =  3382\n",
      "146\n",
      "sum =  46913\n",
      "147\n",
      "sum =  823800\n",
      "148\n",
      "sum =  16777473\n",
      "149\n",
      "sum =  387420746\n",
      "150\n",
      "sum =  3127\n",
      "151\n",
      "sum =  3127\n",
      "152\n",
      "sum =  3130\n",
      "153\n",
      "sum =  3153\n",
      "154\n",
      "sum =  3382\n"
     ]
    }
   ],
   "source": [
    "lowrange= int(input(\"Enter the low range to find the armstrong num\"))\n",
    "uprange= int(input(\"Enter the up range to find the armstrong num\"))\n",
    "for num in range (lowrange, uprange) :\n",
    "    r=num\n",
    "    numr=num\n",
    "    res=0\n",
    "    lengt=len(str(r))\n",
    "    print(num)\n",
    "    while(num!=0):\n",
    "        r=num%10\n",
    "        res=res+(r**r)\n",
    "        num=num//10\n",
    "    print(\"sum = \", res)\n",
    "    if res==numr:\n",
    "        print(\"yes\" , numr , \"is arm...\")\n",
    "    "
   ]
  },
  {
   "cell_type": "code",
   "execution_count": 43,
   "metadata": {},
   "outputs": [
    {
     "name": "stdout",
     "output_type": "stream",
     "text": [
      "153\n",
      "sum =  153\n",
      "yes 153 is arm...\n"
     ]
    }
   ],
   "source": [
    "\n",
    "num=153\n",
    "r=num\n",
    "numr=num\n",
    "res=0\n",
    "lengt=len(str(r))\n",
    "print(num)\n",
    "while(num!=0):\n",
    "    r=num%10\n",
    "    res=res+(r**lengt)\n",
    "    num=num//10\n",
    "print(\"sum = \", res)\n",
    "if res==numr:\n",
    "    print(\"yes\" , numr , \"is arm...\")\n",
    "else :\n",
    "    print(\"not\")"
   ]
  },
  {
   "cell_type": "code",
   "execution_count": 45,
   "metadata": {},
   "outputs": [
    {
     "name": "stdout",
     "output_type": "stream",
     "text": [
      "153 is an Armstrong number.\n"
     ]
    }
   ],
   "source": [
    "\n",
    "low_range = int(input(\"Enter the lower range to find Armstrong numbers: \"))\n",
    "up_range = int(input(\"Enter the upper range to find Armstrong numbers: \"))\n",
    "\n",
    "for num in range(low_range, up_range + 1):\n",
    "    order = len(str(num))\n",
    "    temp = num\n",
    "    sum = 0\n",
    "\n",
    "    while temp > 0:\n",
    "        digit = temp % 10\n",
    "        sum += digit ** order\n",
    "        temp //= 10\n",
    "\n",
    "    if num == sum:\n",
    "        print(num, \"is an Armstrong number.\")\n"
   ]
  },
  {
   "cell_type": "code",
   "execution_count": 46,
   "metadata": {},
   "outputs": [
    {
     "name": "stdout",
     "output_type": "stream",
     "text": [
      "The 3x3 matrix is:\n",
      "[1, 2, 3]\n",
      "[4, 5, 6]\n",
      "[4, 5, 4]\n"
     ]
    }
   ],
   "source": [
    "def create_matrix(n):\n",
    "    matrix = []\n",
    "    for i in range(n):\n",
    "        row = []\n",
    "        for j in range(n):\n",
    "            element = int(input(f\"Enter element at position ({i+1},{j+1}): \"))\n",
    "            row.append(element)\n",
    "        matrix.append(row)\n",
    "    return matrix\n",
    "\n",
    "n = int(input(\"Enter the value of n for the matrix: \"))\n",
    "\n",
    "result_matrix = create_matrix(n)\n",
    "\n",
    "print(f\"The {n}x{n} matrix is:\")\n",
    "for row in result_matrix:\n",
    "    print(row)\n"
   ]
  },
  {
   "cell_type": "code",
   "execution_count": 47,
   "metadata": {},
   "outputs": [
    {
     "name": "stdout",
     "output_type": "stream",
     "text": [
      "[4, 1]\n",
      "[3, 2]\n"
     ]
    }
   ],
   "source": [
    "def create_magic_square(n):\n",
    "    magic_square = [[0 for _ in range(n)] for _ in range(n)]\n",
    "\n",
    "    num = 1\n",
    "    i = 0\n",
    "    j = n // 2\n",
    "\n",
    "    for _ in range(n * n):\n",
    "        magic_square[i][j] = num\n",
    "        num += 1\n",
    "        temp = j\n",
    "        j = (i + 1) % n\n",
    "        i = temp\n",
    "\n",
    "    return magic_square\n",
    "n = int(input(\"Enter the number of integers: \"))\n",
    "\n",
    "magic_square = create_magic_square(n)\n",
    "for row in magic_square:\n",
    "    print(row)"
   ]
  },
  {
   "cell_type": "code",
   "execution_count": null,
   "metadata": {},
   "outputs": [],
   "source": []
  }
 ],
 "metadata": {
  "kernelspec": {
   "display_name": "Python 3",
   "language": "python",
   "name": "python3"
  },
  "language_info": {
   "codemirror_mode": {
    "name": "ipython",
    "version": 3
   },
   "file_extension": ".py",
   "mimetype": "text/x-python",
   "name": "python",
   "nbconvert_exporter": "python",
   "pygments_lexer": "ipython3",
   "version": "3.12.0"
  }
 },
 "nbformat": 4,
 "nbformat_minor": 2
}
