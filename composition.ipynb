{
 "cells": [
  {
   "cell_type": "code",
   "execution_count": null,
   "metadata": {},
   "outputs": [],
   "source": []
  },
  {
   "cell_type": "markdown",
   "metadata": {},
   "source": [
    "# Composite"
   ]
  },
  {
   "cell_type": "markdown",
   "metadata": {},
   "source": []
  },
  {
   "cell_type": "code",
   "execution_count": 5,
   "metadata": {},
   "outputs": [
    {
     "name": "stdout",
     "output_type": "stream",
     "text": [
      "Composite object has been created\n",
      "Componana object has been crated\n"
     ]
    }
   ],
   "source": [
    "class componant:\n",
    "    def __init__(self):\n",
    "        print(\"Componana object has been crated\")\n",
    "    def method1(self):\n",
    "        print('method of compobebet execute')\n",
    "class composit:\n",
    "    def __init__(self):\n",
    "        print(\"Composite object has been created\")\n",
    "        self.com=componant()\n",
    "    def method2(self):\n",
    "        print(f\"Method of composite executed\")\n",
    "        self.com.method1()\n",
    "c=composit()\n",
    "# c.componant.method1()"
   ]
  },
  {
   "cell_type": "code",
   "execution_count": 11,
   "metadata": {},
   "outputs": [
    {
     "name": "stdout",
     "output_type": "stream",
     "text": [
      "engine started\n",
      "wheel rolled\n",
      "wheel rolled\n",
      "wheel rolled\n",
      "wheel rolled\n",
      "body painted with color red\n"
     ]
    }
   ],
   "source": [
    "class engine:\n",
    "    def start(self):\n",
    "        print(\"engine started\")\n",
    "class wheel:\n",
    "    def roll(self):\n",
    "        print(\"wheel rolled\")\n",
    "class body:\n",
    "    def paint(self,color):\n",
    "        print(f\"body painted with color {color}\")\n",
    "class car:\n",
    "    def __init__(self):\n",
    "        self.engine=engine()\n",
    "        self.wheel=[wheel() for _ in range(4)]\n",
    "        self.body=body()\n",
    "    def start(self):\n",
    "        self.engine.start()\n",
    "    def roll(self):\n",
    "        for w in self.wheel:\n",
    "            w.roll()\n",
    "    def paint(self,color):\n",
    "        self.body.paint(color)\n",
    "c=car()\n",
    "c.start()\n",
    "c.roll()\n",
    "c.paint('red')"
   ]
  },
  {
   "cell_type": "code",
   "execution_count": 22,
   "metadata": {},
   "outputs": [
    {
     "name": "stdout",
     "output_type": "stream",
     "text": [
      "engine started.fuel tye diesel\n"
     ]
    }
   ],
   "source": [
    "class engine:\n",
    "    def __init__(self, fuel_type):\n",
    "        self.fuel_type = fuel_type\n",
    "    def start(self):\n",
    "        print(f\"engine started.fuel tye {self.fuel_type}\")\n",
    "    def stop(self):\n",
    "        print(\"Engine stopped\")\n",
    "class car:\n",
    "    def __init__(self, make, model, fuel_type):\n",
    "        self.make=make\n",
    "        self.model=model\n",
    "        self.engine=engine(fuel_type)\n",
    "    def start_engine(self):\n",
    "        self.engine.start()\n",
    "    def stop_engine(self):\n",
    "        self.engine.stop()\n",
    "mycar=car('toyota', 'camry', 'diesel')\n",
    "mycar.start_engine()"
   ]
  },
  {
   "cell_type": "code",
   "execution_count": 29,
   "metadata": {},
   "outputs": [
    {
     "name": "stdout",
     "output_type": "stream",
     "text": [
      "initial board\n",
      "['hanthi', '--*--', '--*--', '--*--', '--*--', '--*--', '--*--', 'hanthi']\n",
      "['sipahi', 'sipahi', 'sipahi', 'sipahi', 'sipahi', 'sipahi', 'sipahi', 'sipahi']\n",
      "['--*--', '--*--', '--*--', '--*--', '--*--', '--*--', '--*--', '--*--']\n",
      "['--*--', '--*--', '--*--', '--*--', '--*--', '--*--', '--*--', '--*--']\n",
      "['--*--', '--*--', '--*--', '--*--', '--*--', '--*--', '--*--', '--*--']\n",
      "['--*--', '--*--', '--*--', '--*--', '--*--', '--*--', '--*--', '--*--']\n",
      "['sipahi', 'sipahi', 'sipahi', 'sipahi', 'sipahi', 'sipahi', 'sipahi', 'sipahi']\n",
      "['hanthi', '--*--', '--*--', '--*--', '--*--', '--*--', '--*--', 'hanthi']\n"
     ]
    }
   ],
   "source": [
    "class piece:\n",
    "    def __init__(self, color):\n",
    "        self.color = color\n",
    "class hanthi(piece):\n",
    "    def __init__(self, color):\n",
    "        super().__init__(color)\n",
    "        self.type=\"hanthi\"\n",
    "class ghoda(piece):\n",
    "    def __init__(self, color):\n",
    "        super().__init__(color)\n",
    "        self.type=\"ghoda\"\n",
    "class sipahi(piece):\n",
    "    def __init__(self, color):\n",
    "        super().__init__(color)\n",
    "        self.type=\"sipahi\"\n",
    "class board:\n",
    "    def __init__(self):\n",
    "        self.grid=[[None for _ in range(8)] for _ in range(8)]\n",
    "    def initialize_board(self):\n",
    "        self.grid[0][0]=hanthi(\"white\")\n",
    "        self.grid[0][7]=hanthi(\"white\")\n",
    "        self.grid[7][0]=hanthi(\"nigga\")\n",
    "        self.grid[7][7]=hanthi(\"nigga\")\n",
    "        self.grid[1]=[sipahi(\"white\") for _ in range(8)]\n",
    "        self.grid[6]=[sipahi(\"nigga\") for _ in range(8)]\n",
    "    def print_board(self):\n",
    "        for r in self.grid:\n",
    "            print([piece.type if piece else '--*--' for piece in r])\n",
    "class game:\n",
    "    def __init__(self):\n",
    "        self.board=board()\n",
    "        self.board.initialize_board()\n",
    "    def play(self):\n",
    "        print(\"initial board\")\n",
    "        self.board.print_board()\n",
    "c=game()\n",
    "c.play()\n",
    "    "
   ]
  },
  {
   "cell_type": "code",
   "execution_count": null,
   "metadata": {},
   "outputs": [],
   "source": []
  }
 ],
 "metadata": {
  "kernelspec": {
   "display_name": "Python 3",
   "language": "python",
   "name": "python3"
  },
  "language_info": {
   "codemirror_mode": {
    "name": "ipython",
    "version": 3
   },
   "file_extension": ".py",
   "mimetype": "text/x-python",
   "name": "python",
   "nbconvert_exporter": "python",
   "pygments_lexer": "ipython3",
   "version": "3.12.0"
  }
 },
 "nbformat": 4,
 "nbformat_minor": 2
}
