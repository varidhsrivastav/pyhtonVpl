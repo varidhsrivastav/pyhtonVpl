{
 "cells": [
  {
   "cell_type": "code",
   "execution_count": 1,
   "metadata": {},
   "outputs": [],
   "source": [
    "# custroctor in python -- thod name is __init__\n",
    "# parameterised const\n",
    "# __del__ is the distructor in python"
   ]
  },
  {
   "cell_type": "code",
   "execution_count": 4,
   "metadata": {},
   "outputs": [
    {
     "name": "stdout",
     "output_type": "stream",
     "text": [
      "The sample has been created\n"
     ]
    }
   ],
   "source": [
    "# deafault constr\n",
    "class sample:\n",
    "    def __init__(self):\n",
    "        print(\"The sample has been created\")\n",
    "s=sample()"
   ]
  },
  {
   "cell_type": "code",
   "execution_count": 16,
   "metadata": {},
   "outputs": [
    {
     "name": "stdout",
     "output_type": "stream",
     "text": [
      "The sample has been inithalized\n"
     ]
    }
   ],
   "source": [
    "class sample:\n",
    "    def __init__(self): #inbuild constructor\n",
    "        print(\"The sample has been created\")\n",
    "    def __init__(self,a,b):\n",
    "        self.a=a\n",
    "        self.b=b\n",
    "    def __init__(self): #latestonw wll taje as constructor\n",
    "        print(\"The sample has been inithalized\")\n",
    "    def init(self):\n",
    "        print(\"initialzed\")\n",
    "s=sample()\n",
    "# s1=sample(10,20)\n",
    "# s.init()"
   ]
  },
  {
   "cell_type": "code",
   "execution_count": 31,
   "metadata": {},
   "outputs": [
    {
     "name": "stdout",
     "output_type": "stream",
     "text": [
      "Ample has been created\n",
      "sample has been destroyed\n",
      "Ample has been created\n",
      "sample has been destroyed\n",
      "the sample is present\n",
      "sample has been destroyed\n"
     ]
    }
   ],
   "source": [
    "# destrutor\n",
    "class sample1:\n",
    "    def __init__(self):\n",
    "        print(\"Ample has been created\")\n",
    "    def __del__(self):\n",
    "        print(\"sample has been destroyed\")\n",
    "    def shoe(self):\n",
    "        print(\"the sample is present\")\n",
    "s=sample1()\n",
    "del s\n",
    "s=sample1()\n",
    "# if oyu do __Del___ it work as destructor \n",
    "s.__del__()\n",
    "s.shoe()\n",
    "del s\n",
    "# s.shoe()"
   ]
  },
  {
   "cell_type": "code",
   "execution_count": 44,
   "metadata": {},
   "outputs": [
    {
     "name": "stdout",
     "output_type": "stream",
     "text": [
      "The sample has been inithalized\n"
     ]
    }
   ],
   "source": [
    "class sample1:\n",
    "    def __init__(self,val):\n",
    "        self.value = val\n",
    "        print(\"Ample has been created\")\n",
    "    def __del__(self):\n",
    "        print(\"sample has been destroyed\")\n",
    "    def __del__(self):\n",
    "        print(\"del2\")\n",
    "    def __del__(self):\n",
    "        print(\"del3\")\n",
    "    def __del__(self):\n",
    "        print(\"del4\")\n",
    "    def __del__(self):\n",
    "        print(f\"del4{self.val}\")\n",
    "    def shoe(self):\n",
    "        print(\"the sample is present\")\n",
    "s3=sample()\n",
    "del s3\n",
    "# s3.__del__()\n",
    "# del s3"
   ]
  },
  {
   "cell_type": "code",
   "execution_count": null,
   "metadata": {},
   "outputs": [],
   "source": []
  }
 ],
 "metadata": {
  "kernelspec": {
   "display_name": "Python 3",
   "language": "python",
   "name": "python3"
  },
  "language_info": {
   "codemirror_mode": {
    "name": "ipython",
    "version": 3
   },
   "file_extension": ".py",
   "mimetype": "text/x-python",
   "name": "python",
   "nbconvert_exporter": "python",
   "pygments_lexer": "ipython3",
   "version": "3.12.0"
  }
 },
 "nbformat": 4,
 "nbformat_minor": 2
}
