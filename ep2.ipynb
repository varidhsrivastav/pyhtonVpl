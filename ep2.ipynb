{
 "cells": [
  {
   "cell_type": "code",
   "execution_count": 1,
   "metadata": {},
   "outputs": [
    {
     "name": "stdout",
     "output_type": "stream",
     "text": [
      "varidh is an adult\n",
      "Total persons: 1\n",
      "Total adults: 1\n",
      "Total non-adults: 0\n"
     ]
    }
   ],
   "source": [
    "class Person:\n",
    "    total_count = 0\n",
    "    adult_count = 0\n",
    "    non_adult_count = 0\n",
    "\n",
    "    @classmethod\n",
    "    def create_person(self, name, birth_year):\n",
    "        self.total_count += 1\n",
    "        current_year = int(input(\"Enter the current year: \"))\n",
    "        age = current_year - birth_year\n",
    "        if age >= 18:\n",
    "            self.adult_count += 1\n",
    "        else:\n",
    "            self.non_adult_count += 1\n",
    "        return self(name, age)\n",
    "\n",
    "    def __init__(self, name, age):\n",
    "        self.name = name\n",
    "        self.age = age\n",
    "\n",
    "    @staticmethod\n",
    "    def is_adult(person):\n",
    "        return person.age >= 18\n",
    "\n",
    "birth_year = int(input(\"Enter your birth year: \"))\n",
    "name = input(\"Enter your name: \")\n",
    "person = Person.create_person(name, birth_year)\n",
    "print(f\"{person.name} is {'an adult' if Person.is_adult(person) else 'not an adult'}\")\n",
    "print(f\"Total persons: {Person.total_count}\")\n",
    "print(f\"Total adults: {Person.adult_count}\")\n",
    "print(f\"Total non-adults: {Person.non_adult_count}\")"
   ]
  },
  {
   "cell_type": "code",
   "execution_count": 14,
   "metadata": {},
   "outputs": [
    {
     "ename": "AttributeError",
     "evalue": "'int' object has no attribute 'totalperson'",
     "output_type": "error",
     "traceback": [
      "\u001b[1;31m---------------------------------------------------------------------------\u001b[0m",
      "\u001b[1;31mAttributeError\u001b[0m                            Traceback (most recent call last)",
      "Cell \u001b[1;32mIn[14], line 18\u001b[0m\n\u001b[0;32m     16\u001b[0m         \u001b[38;5;28;01mreturn\u001b[39;00m age\u001b[38;5;241m>\u001b[39m\u001b[38;5;241m=\u001b[39m\u001b[38;5;241m18\u001b[39m\n\u001b[0;32m     17\u001b[0m person \u001b[38;5;241m=\u001b[39m person\u001b[38;5;241m.\u001b[39mdeduceperson(\u001b[38;5;124m\"\u001b[39m\u001b[38;5;124mvaridh\u001b[39m\u001b[38;5;124m\"\u001b[39m, \u001b[38;5;241m2023\u001b[39m)\n\u001b[1;32m---> 18\u001b[0m \u001b[38;5;28mprint\u001b[39m(\u001b[38;5;124mf\u001b[39m\u001b[38;5;124m\"\u001b[39m\u001b[38;5;124mTotal persons: \u001b[39m\u001b[38;5;132;01m{\u001b[39;00m\u001b[43mperson\u001b[49m\u001b[38;5;241;43m.\u001b[39;49m\u001b[43mtotalperson\u001b[49m\u001b[38;5;132;01m}\u001b[39;00m\u001b[38;5;124m\"\u001b[39m)\n\u001b[0;32m     19\u001b[0m \u001b[38;5;28mprint\u001b[39m(\u001b[38;5;124mf\u001b[39m\u001b[38;5;124m\"\u001b[39m\u001b[38;5;124mTotal adults: \u001b[39m\u001b[38;5;132;01m{\u001b[39;00mperson\u001b[38;5;241m.\u001b[39madult\u001b[38;5;132;01m}\u001b[39;00m\u001b[38;5;124m\"\u001b[39m)\n\u001b[0;32m     20\u001b[0m \u001b[38;5;28mprint\u001b[39m(\u001b[38;5;124mf\u001b[39m\u001b[38;5;124m\"\u001b[39m\u001b[38;5;124mTotal non-adults: \u001b[39m\u001b[38;5;132;01m{\u001b[39;00mperson\u001b[38;5;241m.\u001b[39mminor\u001b[38;5;132;01m}\u001b[39;00m\u001b[38;5;124m\"\u001b[39m)\n",
      "\u001b[1;31mAttributeError\u001b[0m: 'int' object has no attribute 'totalperson'"
     ]
    }
   ],
   "source": [
    "class person:\n",
    "    totalperson=0\n",
    "    adult=0\n",
    "    minor=0\n",
    "    def __init__(self,name,age):\n",
    "        self.name =name\n",
    "        self.age=age\n",
    "    @classmethod\n",
    "    def deduceperson(self, name, birthyear):\n",
    "        self.totalperson+=1\n",
    "        currentyear=2024\n",
    "        age=currentyear-birthyear\n",
    "        if age>=18:\n",
    "            self.adult+=1\n",
    "        else:\n",
    "            self.minor+=1\n",
    "        return self(name, age)\n",
    "    @staticmethod\n",
    "    def is_adult(person):\n",
    "        return person.age>=18\n",
    "person = person.deduceperson(\"varidh\", 2023)\n",
    "print(f\"Total persons: {person.totalperson}\")\n",
    "print(f\"Total adults: {person.adult}\")\n",
    "print(f\"Total non-adults: {person.minor}\")\n",
    "\n",
    "\n"
   ]
  },
  {
   "cell_type": "code",
   "execution_count": null,
   "metadata": {},
   "outputs": [],
   "source": []
  }
 ],
 "metadata": {
  "kernelspec": {
   "display_name": "Python 3",
   "language": "python",
   "name": "python3"
  },
  "language_info": {
   "codemirror_mode": {
    "name": "ipython",
    "version": 3
   },
   "file_extension": ".py",
   "mimetype": "text/x-python",
   "name": "python",
   "nbconvert_exporter": "python",
   "pygments_lexer": "ipython3",
   "version": "3.12.0"
  }
 },
 "nbformat": 4,
 "nbformat_minor": 2
}
